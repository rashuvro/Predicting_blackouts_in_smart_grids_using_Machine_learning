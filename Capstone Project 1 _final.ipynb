{
 "cells": [
  {
   "cell_type": "markdown",
   "metadata": {},
   "source": [
    "### Dataset:   [link of the dataset](https://drive.google.com/file/d/1qah8AXuABM8PwAYNwgm6zUqxX70JOp3L/view?usp=sharing)"
   ]
  },
  {
   "cell_type": "code",
   "execution_count": 111,
   "metadata": {},
   "outputs": [],
   "source": [
    "# Importing the libraries and loading the .csv file in a dataframe\n",
    "import numpy as np\n",
    "import matplotlib.pyplot as plt\n",
    "import pandas as pd\n",
    "import seaborn as sns\n",
    "from sklearn.preprocessing import MinMaxScaler\n",
    "import warnings\n",
    "warnings.filterwarnings('ignore')"
   ]
  },
  {
   "cell_type": "code",
   "execution_count": 112,
   "metadata": {},
   "outputs": [],
   "source": [
    "# loading the dataset\n",
    "dataset = pd.read_csv('CFS_dataset.csv')"
   ]
  },
  {
   "cell_type": "code",
   "execution_count": 113,
   "metadata": {},
   "outputs": [
    {
     "data": {
      "text/html": [
       "<div>\n",
       "<style scoped>\n",
       "    .dataframe tbody tr th:only-of-type {\n",
       "        vertical-align: middle;\n",
       "    }\n",
       "\n",
       "    .dataframe tbody tr th {\n",
       "        vertical-align: top;\n",
       "    }\n",
       "\n",
       "    .dataframe thead th {\n",
       "        text-align: right;\n",
       "    }\n",
       "</style>\n",
       "<table border=\"1\" class=\"dataframe\">\n",
       "  <thead>\n",
       "    <tr style=\"text-align: right;\">\n",
       "      <th></th>\n",
       "      <th>initially failed lines</th>\n",
       "      <th>failed lines after cascade</th>\n",
       "      <th>Cmax</th>\n",
       "      <th>Cmin</th>\n",
       "      <th>loadshedding constraint</th>\n",
       "      <th>loading ratio</th>\n",
       "      <th>capacity estimation error</th>\n",
       "      <th>flow capacity</th>\n",
       "      <th>Island?</th>\n",
       "      <th>degree</th>\n",
       "      <th>distance</th>\n",
       "      <th>installed cap</th>\n",
       "      <th>Load shedd</th>\n",
       "      <th>Load shedd.1</th>\n",
       "      <th>demand</th>\n",
       "      <th>served</th>\n",
       "      <th>HEP</th>\n",
       "      <th>generated</th>\n",
       "      <th>Alpha</th>\n",
       "      <th>failed lines due to cascade</th>\n",
       "    </tr>\n",
       "  </thead>\n",
       "  <tbody>\n",
       "    <tr>\n",
       "      <td>0</td>\n",
       "      <td>6</td>\n",
       "      <td>86</td>\n",
       "      <td>200</td>\n",
       "      <td>50</td>\n",
       "      <td>0.45</td>\n",
       "      <td>0.90</td>\n",
       "      <td>0.50</td>\n",
       "      <td>768</td>\n",
       "      <td>0</td>\n",
       "      <td>2.675</td>\n",
       "      <td>7.397</td>\n",
       "      <td>1550</td>\n",
       "      <td>6307</td>\n",
       "      <td>6307</td>\n",
       "      <td>8970.0</td>\n",
       "      <td>2663.0</td>\n",
       "      <td>0.50</td>\n",
       "      <td>2663.0</td>\n",
       "      <td>0.2</td>\n",
       "      <td>80</td>\n",
       "    </tr>\n",
       "    <tr>\n",
       "      <td>1</td>\n",
       "      <td>4</td>\n",
       "      <td>52</td>\n",
       "      <td>200</td>\n",
       "      <td>100</td>\n",
       "      <td>0.05</td>\n",
       "      <td>0.85</td>\n",
       "      <td>0.20</td>\n",
       "      <td>209</td>\n",
       "      <td>0</td>\n",
       "      <td>2.699</td>\n",
       "      <td>6.912</td>\n",
       "      <td>450</td>\n",
       "      <td>2934</td>\n",
       "      <td>2934</td>\n",
       "      <td>8471.0</td>\n",
       "      <td>5537.0</td>\n",
       "      <td>0.50</td>\n",
       "      <td>5538.0</td>\n",
       "      <td>0.2</td>\n",
       "      <td>48</td>\n",
       "    </tr>\n",
       "    <tr>\n",
       "      <td>2</td>\n",
       "      <td>7</td>\n",
       "      <td>17</td>\n",
       "      <td>200</td>\n",
       "      <td>100</td>\n",
       "      <td>0.40</td>\n",
       "      <td>0.75</td>\n",
       "      <td>0.01</td>\n",
       "      <td>537</td>\n",
       "      <td>0</td>\n",
       "      <td>2.663</td>\n",
       "      <td>6.951</td>\n",
       "      <td>1050</td>\n",
       "      <td>700</td>\n",
       "      <td>700</td>\n",
       "      <td>7475.0</td>\n",
       "      <td>6775.0</td>\n",
       "      <td>0.50</td>\n",
       "      <td>6774.0</td>\n",
       "      <td>0.2</td>\n",
       "      <td>10</td>\n",
       "    </tr>\n",
       "    <tr>\n",
       "      <td>3</td>\n",
       "      <td>9</td>\n",
       "      <td>9</td>\n",
       "      <td>200</td>\n",
       "      <td>50</td>\n",
       "      <td>0.30</td>\n",
       "      <td>0.90</td>\n",
       "      <td>0.05</td>\n",
       "      <td>526</td>\n",
       "      <td>0</td>\n",
       "      <td>2.638</td>\n",
       "      <td>7.048</td>\n",
       "      <td>850</td>\n",
       "      <td>1507</td>\n",
       "      <td>1507</td>\n",
       "      <td>8970.0</td>\n",
       "      <td>7463.0</td>\n",
       "      <td>0.29</td>\n",
       "      <td>7462.0</td>\n",
       "      <td>0.2</td>\n",
       "      <td>0</td>\n",
       "    </tr>\n",
       "    <tr>\n",
       "      <td>4</td>\n",
       "      <td>3</td>\n",
       "      <td>82</td>\n",
       "      <td>200</td>\n",
       "      <td>50</td>\n",
       "      <td>0.05</td>\n",
       "      <td>0.85</td>\n",
       "      <td>0.35</td>\n",
       "      <td>149</td>\n",
       "      <td>0</td>\n",
       "      <td>2.712</td>\n",
       "      <td>6.855</td>\n",
       "      <td>300</td>\n",
       "      <td>3534</td>\n",
       "      <td>3534</td>\n",
       "      <td>8471.0</td>\n",
       "      <td>4937.0</td>\n",
       "      <td>0.72</td>\n",
       "      <td>4937.0</td>\n",
       "      <td>0.2</td>\n",
       "      <td>79</td>\n",
       "    </tr>\n",
       "  </tbody>\n",
       "</table>\n",
       "</div>"
      ],
      "text/plain": [
       "   initially failed lines  failed lines after cascade  Cmax  Cmin  \\\n",
       "0                       6                          86   200    50   \n",
       "1                       4                          52   200   100   \n",
       "2                       7                          17   200   100   \n",
       "3                       9                           9   200    50   \n",
       "4                       3                          82   200    50   \n",
       "\n",
       "   loadshedding constraint  loading ratio  capacity estimation error  \\\n",
       "0                     0.45           0.90                       0.50   \n",
       "1                     0.05           0.85                       0.20   \n",
       "2                     0.40           0.75                       0.01   \n",
       "3                     0.30           0.90                       0.05   \n",
       "4                     0.05           0.85                       0.35   \n",
       "\n",
       "   flow capacity  Island?  degree  distance  installed cap  Load shedd  \\\n",
       "0            768        0   2.675     7.397           1550        6307   \n",
       "1            209        0   2.699     6.912            450        2934   \n",
       "2            537        0   2.663     6.951           1050         700   \n",
       "3            526        0   2.638     7.048            850        1507   \n",
       "4            149        0   2.712     6.855            300        3534   \n",
       "\n",
       "   Load shedd.1  demand  served   HEP  generated  Alpha  \\\n",
       "0          6307  8970.0  2663.0  0.50     2663.0    0.2   \n",
       "1          2934  8471.0  5537.0  0.50     5538.0    0.2   \n",
       "2           700  7475.0  6775.0  0.50     6774.0    0.2   \n",
       "3          1507  8970.0  7463.0  0.29     7462.0    0.2   \n",
       "4          3534  8471.0  4937.0  0.72     4937.0    0.2   \n",
       "\n",
       "   failed lines due to cascade  \n",
       "0                           80  \n",
       "1                           48  \n",
       "2                           10  \n",
       "3                            0  \n",
       "4                           79  "
      ]
     },
     "execution_count": 113,
     "metadata": {},
     "output_type": "execute_result"
    }
   ],
   "source": [
    "# head of the data set\n",
    "dataset.head(5)"
   ]
  },
  {
   "cell_type": "code",
   "execution_count": 114,
   "metadata": {},
   "outputs": [
    {
     "data": {
      "text/html": [
       "<div>\n",
       "<style scoped>\n",
       "    .dataframe tbody tr th:only-of-type {\n",
       "        vertical-align: middle;\n",
       "    }\n",
       "\n",
       "    .dataframe tbody tr th {\n",
       "        vertical-align: top;\n",
       "    }\n",
       "\n",
       "    .dataframe thead th {\n",
       "        text-align: right;\n",
       "    }\n",
       "</style>\n",
       "<table border=\"1\" class=\"dataframe\">\n",
       "  <thead>\n",
       "    <tr style=\"text-align: right;\">\n",
       "      <th></th>\n",
       "      <th>initially failed lines</th>\n",
       "      <th>failed lines after cascade</th>\n",
       "      <th>Cmax</th>\n",
       "      <th>Cmin</th>\n",
       "      <th>loadshedding constraint</th>\n",
       "      <th>loading ratio</th>\n",
       "      <th>capacity estimation error</th>\n",
       "      <th>flow capacity</th>\n",
       "      <th>Island?</th>\n",
       "      <th>degree</th>\n",
       "      <th>distance</th>\n",
       "      <th>installed cap</th>\n",
       "      <th>Load shedd</th>\n",
       "      <th>Load shedd.1</th>\n",
       "      <th>demand</th>\n",
       "      <th>served</th>\n",
       "      <th>HEP</th>\n",
       "      <th>generated</th>\n",
       "      <th>Alpha</th>\n",
       "      <th>failed lines due to cascade</th>\n",
       "    </tr>\n",
       "  </thead>\n",
       "  <tbody>\n",
       "    <tr>\n",
       "      <td>66815</td>\n",
       "      <td>10</td>\n",
       "      <td>56</td>\n",
       "      <td>100</td>\n",
       "      <td>50</td>\n",
       "      <td>0.70</td>\n",
       "      <td>0.7</td>\n",
       "      <td>0.15</td>\n",
       "      <td>481</td>\n",
       "      <td>0</td>\n",
       "      <td>2.625767</td>\n",
       "      <td>6.960539</td>\n",
       "      <td>900</td>\n",
       "      <td>2380</td>\n",
       "      <td>2380</td>\n",
       "      <td>6976.34</td>\n",
       "      <td>4596.34</td>\n",
       "      <td>0.091743</td>\n",
       "      <td>4595.900659</td>\n",
       "      <td>0.10</td>\n",
       "      <td>46</td>\n",
       "    </tr>\n",
       "    <tr>\n",
       "      <td>66816</td>\n",
       "      <td>5</td>\n",
       "      <td>47</td>\n",
       "      <td>200</td>\n",
       "      <td>100</td>\n",
       "      <td>0.55</td>\n",
       "      <td>0.6</td>\n",
       "      <td>0.20</td>\n",
       "      <td>499</td>\n",
       "      <td>0</td>\n",
       "      <td>2.687117</td>\n",
       "      <td>6.827160</td>\n",
       "      <td>800</td>\n",
       "      <td>1574</td>\n",
       "      <td>1574</td>\n",
       "      <td>5979.72</td>\n",
       "      <td>4405.72</td>\n",
       "      <td>0.168067</td>\n",
       "      <td>4405.717426</td>\n",
       "      <td>0.01</td>\n",
       "      <td>42</td>\n",
       "    </tr>\n",
       "  </tbody>\n",
       "</table>\n",
       "</div>"
      ],
      "text/plain": [
       "       initially failed lines  failed lines after cascade  Cmax  Cmin  \\\n",
       "66815                      10                          56   100    50   \n",
       "66816                       5                          47   200   100   \n",
       "\n",
       "       loadshedding constraint  loading ratio  capacity estimation error  \\\n",
       "66815                     0.70            0.7                       0.15   \n",
       "66816                     0.55            0.6                       0.20   \n",
       "\n",
       "       flow capacity  Island?    degree  distance  installed cap  Load shedd  \\\n",
       "66815            481        0  2.625767  6.960539            900        2380   \n",
       "66816            499        0  2.687117  6.827160            800        1574   \n",
       "\n",
       "       Load shedd.1   demand   served       HEP    generated  Alpha  \\\n",
       "66815          2380  6976.34  4596.34  0.091743  4595.900659   0.10   \n",
       "66816          1574  5979.72  4405.72  0.168067  4405.717426   0.01   \n",
       "\n",
       "       failed lines due to cascade  \n",
       "66815                           46  \n",
       "66816                           42  "
      ]
     },
     "execution_count": 114,
     "metadata": {},
     "output_type": "execute_result"
    }
   ],
   "source": [
    "# Tail of the dataset to check the size is okay\n",
    "dataset.tail(2)"
   ]
  },
  {
   "cell_type": "markdown",
   "metadata": {},
   "source": [
    "- Loadshed is available twice in the dataset. So, I will drop that column."
   ]
  },
  {
   "cell_type": "code",
   "execution_count": 115,
   "metadata": {},
   "outputs": [
    {
     "data": {
      "text/plain": [
       "Index(['initially failed lines', 'failed lines after cascade', 'Cmax', 'Cmin',\n",
       "       'loadshedding constraint', 'loading ratio', 'capacity estimation error',\n",
       "       'flow capacity', 'Island?', 'degree', 'distance', 'installed cap',\n",
       "       'Load shedd', 'Load shedd.1', 'demand', 'served', 'HEP', 'generated',\n",
       "       'Alpha', 'failed lines due to cascade'],\n",
       "      dtype='object')"
      ]
     },
     "execution_count": 115,
     "metadata": {},
     "output_type": "execute_result"
    }
   ],
   "source": [
    "#columns of the dataset\n",
    "dataset.columns"
   ]
  },
  {
   "cell_type": "markdown",
   "metadata": {},
   "source": [
    "- The dataset column names are not consistent. So, I need to rename them to avoid inconsistency"
   ]
  },
  {
   "cell_type": "code",
   "execution_count": 116,
   "metadata": {},
   "outputs": [],
   "source": [
    "dataset.rename(columns={'initially failed lines': 'Intial_failed_lines', \n",
    "                       'failed lines after cascade':'Failed_lines_after_cascade_ends',\n",
    "                        'loadshedding constraint': 'Load_shedding_constraint',\n",
    "                        'loading ratio': 'Load_generation_ratio',\n",
    "                        'capacity estimation error':'Capacity_estimation_error',\n",
    "                        'flow capacity':'Flow_capacity','degree':'Degree', 'distance':'Distance',\n",
    "                        'installed cap':'Installed_capacity',\n",
    "        'demand':'Demand', 'served':'Served', 'HEP':'Human_error_Probability', 'generated':'Generation',\n",
    "        'failed lines due to cascade':'Failed_lines_due_to_cascade'\n",
    "                       },inplace=True)"
   ]
  },
  {
   "cell_type": "code",
   "execution_count": 117,
   "metadata": {},
   "outputs": [
    {
     "data": {
      "text/plain": [
       "(66817, 20)"
      ]
     },
     "execution_count": 117,
     "metadata": {},
     "output_type": "execute_result"
    }
   ],
   "source": [
    "# shape of the dataset\n",
    "dataset.shape"
   ]
  },
  {
   "cell_type": "code",
   "execution_count": 118,
   "metadata": {},
   "outputs": [
    {
     "name": "stdout",
     "output_type": "stream",
     "text": [
      "<class 'pandas.core.frame.DataFrame'>\n",
      "RangeIndex: 66817 entries, 0 to 66816\n",
      "Data columns (total 20 columns):\n",
      "Intial_failed_lines                66817 non-null int64\n",
      "Failed_lines_after_cascade_ends    66817 non-null int64\n",
      "Cmax                               66817 non-null int64\n",
      "Cmin                               66817 non-null int64\n",
      "Load_shedding_constraint           66817 non-null float64\n",
      "Load_generation_ratio              66817 non-null float64\n",
      "Capacity_estimation_error          66817 non-null float64\n",
      "Flow_capacity                      66817 non-null int64\n",
      "Island?                            66817 non-null int64\n",
      "Degree                             66817 non-null float64\n",
      "Distance                           66817 non-null float64\n",
      "Installed_capacity                 66817 non-null int64\n",
      "Load shedd                         66817 non-null int64\n",
      "Load shedd.1                       66817 non-null int64\n",
      "Demand                             66817 non-null float64\n",
      "Served                             66817 non-null float64\n",
      "Human_error_Probability            66817 non-null float64\n",
      "Generation                         66817 non-null float64\n",
      "Alpha                              66817 non-null float64\n",
      "Failed_lines_due_to_cascade        66817 non-null int64\n",
      "dtypes: float64(10), int64(10)\n",
      "memory usage: 10.2 MB\n"
     ]
    }
   ],
   "source": [
    "dataset.info()"
   ]
  },
  {
   "cell_type": "markdown",
   "metadata": {},
   "source": [
    "Since the dataset was generated from simulation, there should be no missing values in the dataset. We can confirm from above that there are no missing values in the dataset."
   ]
  },
  {
   "cell_type": "markdown",
   "metadata": {},
   "source": [
    "### Data cleaing and wranling "
   ]
  },
  {
   "cell_type": "markdown",
   "metadata": {},
   "source": [
    "- Load shedd and Load shedd.1 are same so remove Load shedd.1 "
   ]
  },
  {
   "cell_type": "code",
   "execution_count": 119,
   "metadata": {},
   "outputs": [],
   "source": [
    "dataset.drop('Load shedd.1',axis=1,inplace=True)"
   ]
  },
  {
   "cell_type": "code",
   "execution_count": 120,
   "metadata": {},
   "outputs": [
    {
     "data": {
      "text/html": [
       "<div>\n",
       "<style scoped>\n",
       "    .dataframe tbody tr th:only-of-type {\n",
       "        vertical-align: middle;\n",
       "    }\n",
       "\n",
       "    .dataframe tbody tr th {\n",
       "        vertical-align: top;\n",
       "    }\n",
       "\n",
       "    .dataframe thead th {\n",
       "        text-align: right;\n",
       "    }\n",
       "</style>\n",
       "<table border=\"1\" class=\"dataframe\">\n",
       "  <thead>\n",
       "    <tr style=\"text-align: right;\">\n",
       "      <th></th>\n",
       "      <th>Intial_failed_lines</th>\n",
       "      <th>Failed_lines_after_cascade_ends</th>\n",
       "      <th>Cmax</th>\n",
       "      <th>Cmin</th>\n",
       "      <th>Load_shedding_constraint</th>\n",
       "      <th>Load_generation_ratio</th>\n",
       "      <th>Capacity_estimation_error</th>\n",
       "      <th>Flow_capacity</th>\n",
       "      <th>Island?</th>\n",
       "      <th>Degree</th>\n",
       "      <th>Distance</th>\n",
       "      <th>Installed_capacity</th>\n",
       "      <th>Loadshed</th>\n",
       "      <th>Demand</th>\n",
       "      <th>Served</th>\n",
       "      <th>Human_error_Probability</th>\n",
       "      <th>Generation</th>\n",
       "      <th>Alpha</th>\n",
       "      <th>Failed_lines_due_to_cascade</th>\n",
       "    </tr>\n",
       "  </thead>\n",
       "  <tbody>\n",
       "    <tr>\n",
       "      <td>0</td>\n",
       "      <td>6</td>\n",
       "      <td>86</td>\n",
       "      <td>200</td>\n",
       "      <td>50</td>\n",
       "      <td>0.45</td>\n",
       "      <td>0.90</td>\n",
       "      <td>0.5</td>\n",
       "      <td>768</td>\n",
       "      <td>0</td>\n",
       "      <td>2.675</td>\n",
       "      <td>7.397</td>\n",
       "      <td>1550</td>\n",
       "      <td>6307</td>\n",
       "      <td>8970.0</td>\n",
       "      <td>2663.0</td>\n",
       "      <td>0.5</td>\n",
       "      <td>2663.0</td>\n",
       "      <td>0.2</td>\n",
       "      <td>80</td>\n",
       "    </tr>\n",
       "    <tr>\n",
       "      <td>1</td>\n",
       "      <td>4</td>\n",
       "      <td>52</td>\n",
       "      <td>200</td>\n",
       "      <td>100</td>\n",
       "      <td>0.05</td>\n",
       "      <td>0.85</td>\n",
       "      <td>0.2</td>\n",
       "      <td>209</td>\n",
       "      <td>0</td>\n",
       "      <td>2.699</td>\n",
       "      <td>6.912</td>\n",
       "      <td>450</td>\n",
       "      <td>2934</td>\n",
       "      <td>8471.0</td>\n",
       "      <td>5537.0</td>\n",
       "      <td>0.5</td>\n",
       "      <td>5538.0</td>\n",
       "      <td>0.2</td>\n",
       "      <td>48</td>\n",
       "    </tr>\n",
       "  </tbody>\n",
       "</table>\n",
       "</div>"
      ],
      "text/plain": [
       "   Intial_failed_lines  Failed_lines_after_cascade_ends  Cmax  Cmin  \\\n",
       "0                    6                               86   200    50   \n",
       "1                    4                               52   200   100   \n",
       "\n",
       "   Load_shedding_constraint  Load_generation_ratio  Capacity_estimation_error  \\\n",
       "0                      0.45                   0.90                        0.5   \n",
       "1                      0.05                   0.85                        0.2   \n",
       "\n",
       "   Flow_capacity  Island?  Degree  Distance  Installed_capacity  Loadshed  \\\n",
       "0            768        0   2.675     7.397                1550      6307   \n",
       "1            209        0   2.699     6.912                 450      2934   \n",
       "\n",
       "   Demand  Served  Human_error_Probability  Generation  Alpha  \\\n",
       "0  8970.0  2663.0                      0.5      2663.0    0.2   \n",
       "1  8471.0  5537.0                      0.5      5538.0    0.2   \n",
       "\n",
       "   Failed_lines_due_to_cascade  \n",
       "0                           80  \n",
       "1                           48  "
      ]
     },
     "execution_count": 120,
     "metadata": {},
     "output_type": "execute_result"
    }
   ],
   "source": [
    "# renaming Load shedd\n",
    "dataset.rename(columns={'Load shedd':'Loadshed'},inplace=True)\n",
    "dataset.head(2)"
   ]
  },
  {
   "cell_type": "markdown",
   "metadata": {},
   "source": [
    "Now, I will check the summary statistic and the correlation between variables to check if there is any inconsistency."
   ]
  },
  {
   "cell_type": "code",
   "execution_count": 121,
   "metadata": {},
   "outputs": [],
   "source": [
    "dataset_describe = dataset.describe().transpose()"
   ]
  },
  {
   "cell_type": "code",
   "execution_count": 122,
   "metadata": {},
   "outputs": [],
   "source": [
    "dataset_describe = dataset_describe.drop('count',axis =1)"
   ]
  },
  {
   "cell_type": "code",
   "execution_count": 123,
   "metadata": {},
   "outputs": [
    {
     "data": {
      "text/html": [
       "<div>\n",
       "<style scoped>\n",
       "    .dataframe tbody tr th:only-of-type {\n",
       "        vertical-align: middle;\n",
       "    }\n",
       "\n",
       "    .dataframe tbody tr th {\n",
       "        vertical-align: top;\n",
       "    }\n",
       "\n",
       "    .dataframe thead th {\n",
       "        text-align: right;\n",
       "    }\n",
       "</style>\n",
       "<table border=\"1\" class=\"dataframe\">\n",
       "  <thead>\n",
       "    <tr style=\"text-align: right;\">\n",
       "      <th></th>\n",
       "      <th>mean</th>\n",
       "      <th>std</th>\n",
       "      <th>min</th>\n",
       "      <th>25%</th>\n",
       "      <th>50%</th>\n",
       "      <th>75%</th>\n",
       "      <th>max</th>\n",
       "    </tr>\n",
       "  </thead>\n",
       "  <tbody>\n",
       "    <tr>\n",
       "      <td>Intial_failed_lines</td>\n",
       "      <td>6.00</td>\n",
       "      <td>2.58</td>\n",
       "      <td>2.00</td>\n",
       "      <td>4.00</td>\n",
       "      <td>6.00</td>\n",
       "      <td>8.00</td>\n",
       "      <td>10.00</td>\n",
       "    </tr>\n",
       "    <tr>\n",
       "      <td>Failed_lines_after_cascade_ends</td>\n",
       "      <td>42.84</td>\n",
       "      <td>22.54</td>\n",
       "      <td>2.00</td>\n",
       "      <td>27.00</td>\n",
       "      <td>49.00</td>\n",
       "      <td>58.00</td>\n",
       "      <td>104.00</td>\n",
       "    </tr>\n",
       "    <tr>\n",
       "      <td>Cmax</td>\n",
       "      <td>197.47</td>\n",
       "      <td>171.80</td>\n",
       "      <td>50.00</td>\n",
       "      <td>100.00</td>\n",
       "      <td>200.00</td>\n",
       "      <td>200.00</td>\n",
       "      <td>800.00</td>\n",
       "    </tr>\n",
       "    <tr>\n",
       "      <td>Cmin</td>\n",
       "      <td>65.22</td>\n",
       "      <td>34.97</td>\n",
       "      <td>50.00</td>\n",
       "      <td>50.00</td>\n",
       "      <td>50.00</td>\n",
       "      <td>50.00</td>\n",
       "      <td>800.00</td>\n",
       "    </tr>\n",
       "    <tr>\n",
       "      <td>Load_shedding_constraint</td>\n",
       "      <td>0.32</td>\n",
       "      <td>0.24</td>\n",
       "      <td>0.01</td>\n",
       "      <td>0.15</td>\n",
       "      <td>0.30</td>\n",
       "      <td>0.50</td>\n",
       "      <td>0.90</td>\n",
       "    </tr>\n",
       "    <tr>\n",
       "      <td>Load_generation_ratio</td>\n",
       "      <td>0.73</td>\n",
       "      <td>0.15</td>\n",
       "      <td>0.50</td>\n",
       "      <td>0.60</td>\n",
       "      <td>0.75</td>\n",
       "      <td>0.85</td>\n",
       "      <td>0.99</td>\n",
       "    </tr>\n",
       "    <tr>\n",
       "      <td>Capacity_estimation_error</td>\n",
       "      <td>0.22</td>\n",
       "      <td>0.15</td>\n",
       "      <td>0.01</td>\n",
       "      <td>0.10</td>\n",
       "      <td>0.20</td>\n",
       "      <td>0.35</td>\n",
       "      <td>0.50</td>\n",
       "    </tr>\n",
       "    <tr>\n",
       "      <td>Flow_capacity</td>\n",
       "      <td>428.19</td>\n",
       "      <td>257.28</td>\n",
       "      <td>0.00</td>\n",
       "      <td>224.00</td>\n",
       "      <td>391.00</td>\n",
       "      <td>587.00</td>\n",
       "      <td>1895.00</td>\n",
       "    </tr>\n",
       "    <tr>\n",
       "      <td>Island?</td>\n",
       "      <td>0.01</td>\n",
       "      <td>0.08</td>\n",
       "      <td>0.00</td>\n",
       "      <td>0.00</td>\n",
       "      <td>0.00</td>\n",
       "      <td>0.00</td>\n",
       "      <td>1.00</td>\n",
       "    </tr>\n",
       "    <tr>\n",
       "      <td>Degree</td>\n",
       "      <td>2.67</td>\n",
       "      <td>0.03</td>\n",
       "      <td>2.63</td>\n",
       "      <td>2.65</td>\n",
       "      <td>2.67</td>\n",
       "      <td>2.70</td>\n",
       "      <td>2.74</td>\n",
       "    </tr>\n",
       "    <tr>\n",
       "      <td>Distance</td>\n",
       "      <td>6.99</td>\n",
       "      <td>0.22</td>\n",
       "      <td>2.79</td>\n",
       "      <td>6.86</td>\n",
       "      <td>6.95</td>\n",
       "      <td>7.09</td>\n",
       "      <td>9.36</td>\n",
       "    </tr>\n",
       "    <tr>\n",
       "      <td>Installed_capacity</td>\n",
       "      <td>809.56</td>\n",
       "      <td>485.54</td>\n",
       "      <td>100.00</td>\n",
       "      <td>450.00</td>\n",
       "      <td>750.00</td>\n",
       "      <td>1100.00</td>\n",
       "      <td>3600.00</td>\n",
       "    </tr>\n",
       "    <tr>\n",
       "      <td>Loadshed</td>\n",
       "      <td>3015.79</td>\n",
       "      <td>2268.88</td>\n",
       "      <td>0.00</td>\n",
       "      <td>1301.00</td>\n",
       "      <td>2389.00</td>\n",
       "      <td>4091.00</td>\n",
       "      <td>9867.00</td>\n",
       "    </tr>\n",
       "    <tr>\n",
       "      <td>Demand</td>\n",
       "      <td>7321.48</td>\n",
       "      <td>1499.32</td>\n",
       "      <td>4983.00</td>\n",
       "      <td>5979.72</td>\n",
       "      <td>7474.65</td>\n",
       "      <td>8471.27</td>\n",
       "      <td>9867.00</td>\n",
       "    </tr>\n",
       "    <tr>\n",
       "      <td>Served</td>\n",
       "      <td>4305.48</td>\n",
       "      <td>1555.11</td>\n",
       "      <td>-0.46</td>\n",
       "      <td>3942.10</td>\n",
       "      <td>4603.10</td>\n",
       "      <td>5093.96</td>\n",
       "      <td>8879.54</td>\n",
       "    </tr>\n",
       "    <tr>\n",
       "      <td>Human_error_Probability</td>\n",
       "      <td>0.41</td>\n",
       "      <td>0.36</td>\n",
       "      <td>0.00</td>\n",
       "      <td>0.07</td>\n",
       "      <td>0.34</td>\n",
       "      <td>0.80</td>\n",
       "      <td>1.00</td>\n",
       "    </tr>\n",
       "    <tr>\n",
       "      <td>Generation</td>\n",
       "      <td>4305.47</td>\n",
       "      <td>1555.09</td>\n",
       "      <td>0.00</td>\n",
       "      <td>3942.24</td>\n",
       "      <td>4603.05</td>\n",
       "      <td>5093.93</td>\n",
       "      <td>8879.88</td>\n",
       "    </tr>\n",
       "    <tr>\n",
       "      <td>Alpha</td>\n",
       "      <td>0.10</td>\n",
       "      <td>0.07</td>\n",
       "      <td>0.01</td>\n",
       "      <td>0.05</td>\n",
       "      <td>0.10</td>\n",
       "      <td>0.15</td>\n",
       "      <td>0.20</td>\n",
       "    </tr>\n",
       "    <tr>\n",
       "      <td>Failed_lines_due_to_cascade</td>\n",
       "      <td>36.83</td>\n",
       "      <td>22.46</td>\n",
       "      <td>0.00</td>\n",
       "      <td>21.00</td>\n",
       "      <td>43.00</td>\n",
       "      <td>52.00</td>\n",
       "      <td>96.00</td>\n",
       "    </tr>\n",
       "  </tbody>\n",
       "</table>\n",
       "</div>"
      ],
      "text/plain": [
       "                                    mean      std      min      25%      50%  \\\n",
       "Intial_failed_lines                 6.00     2.58     2.00     4.00     6.00   \n",
       "Failed_lines_after_cascade_ends    42.84    22.54     2.00    27.00    49.00   \n",
       "Cmax                              197.47   171.80    50.00   100.00   200.00   \n",
       "Cmin                               65.22    34.97    50.00    50.00    50.00   \n",
       "Load_shedding_constraint            0.32     0.24     0.01     0.15     0.30   \n",
       "Load_generation_ratio               0.73     0.15     0.50     0.60     0.75   \n",
       "Capacity_estimation_error           0.22     0.15     0.01     0.10     0.20   \n",
       "Flow_capacity                     428.19   257.28     0.00   224.00   391.00   \n",
       "Island?                             0.01     0.08     0.00     0.00     0.00   \n",
       "Degree                              2.67     0.03     2.63     2.65     2.67   \n",
       "Distance                            6.99     0.22     2.79     6.86     6.95   \n",
       "Installed_capacity                809.56   485.54   100.00   450.00   750.00   \n",
       "Loadshed                         3015.79  2268.88     0.00  1301.00  2389.00   \n",
       "Demand                           7321.48  1499.32  4983.00  5979.72  7474.65   \n",
       "Served                           4305.48  1555.11    -0.46  3942.10  4603.10   \n",
       "Human_error_Probability             0.41     0.36     0.00     0.07     0.34   \n",
       "Generation                       4305.47  1555.09     0.00  3942.24  4603.05   \n",
       "Alpha                               0.10     0.07     0.01     0.05     0.10   \n",
       "Failed_lines_due_to_cascade        36.83    22.46     0.00    21.00    43.00   \n",
       "\n",
       "                                     75%      max  \n",
       "Intial_failed_lines                 8.00    10.00  \n",
       "Failed_lines_after_cascade_ends    58.00   104.00  \n",
       "Cmax                              200.00   800.00  \n",
       "Cmin                               50.00   800.00  \n",
       "Load_shedding_constraint            0.50     0.90  \n",
       "Load_generation_ratio               0.85     0.99  \n",
       "Capacity_estimation_error           0.35     0.50  \n",
       "Flow_capacity                     587.00  1895.00  \n",
       "Island?                             0.00     1.00  \n",
       "Degree                              2.70     2.74  \n",
       "Distance                            7.09     9.36  \n",
       "Installed_capacity               1100.00  3600.00  \n",
       "Loadshed                         4091.00  9867.00  \n",
       "Demand                           8471.27  9867.00  \n",
       "Served                           5093.96  8879.54  \n",
       "Human_error_Probability             0.80     1.00  \n",
       "Generation                       5093.93  8879.88  \n",
       "Alpha                               0.15     0.20  \n",
       "Failed_lines_due_to_cascade        52.00    96.00  "
      ]
     },
     "execution_count": 123,
     "metadata": {},
     "output_type": "execute_result"
    }
   ],
   "source": [
    "# round the statistics to 2 decimal points\n",
    "round (dataset_describe,2)"
   ]
  },
  {
   "cell_type": "markdown",
   "metadata": {},
   "source": [
    "Now, we need to check whether all the columns of the dataset are relevant. To do that, we can check the correlation and heatmap of correlation using seaborn visualization.\n"
   ]
  },
  {
   "cell_type": "code",
   "execution_count": 124,
   "metadata": {},
   "outputs": [],
   "source": [
    "correlation = round(dataset.corr(),2)"
   ]
  },
  {
   "cell_type": "code",
   "execution_count": 125,
   "metadata": {},
   "outputs": [
    {
     "data": {
      "image/png": "[encoded data removed]",
      "text/plain": [
       "<Figure size 864x576 with 2 Axes>"
      ]
     },
     "metadata": {
      "needs_background": "light"
     },
     "output_type": "display_data"
    }
   ],
   "source": [
    "plt.subplots(figsize=(12,8))\n",
    "sns.heatmap(dataset.corr(),cmap ='coolwarm',)\n",
    "plt.savefig('heatmap.png', format='png',bbox_inches='tight')"
   ]
  },
  {
   "cell_type": "markdown",
   "metadata": {},
   "source": [
    "In the dataset, we can do the following column removals:\n",
    "\n",
    "- Loadshed is calculated as the difference between demand and served loads. We need to remove demand and served columns to avoid colinearity. \n",
    "- Island columns can be removed as the value_counts are mostly zero and do not correlate with the failed lines due to cascade.  \n",
    "- We want to predict failed lines due to cascade. So, we should remove failed lines after cascade ends to avoid colinearity.\n",
    "- Flow capacity through the lines needs to be removed as we want to predict the cascade from installed capacities."
   ]
  },
  {
   "cell_type": "code",
   "execution_count": 126,
   "metadata": {},
   "outputs": [
    {
     "data": {
      "text/plain": [
       "0    66388\n",
       "1      429\n",
       "Name: Island?, dtype: int64"
      ]
     },
     "execution_count": 126,
     "metadata": {},
     "output_type": "execute_result"
    }
   ],
   "source": [
    "dataset['Island?'].value_counts()"
   ]
  },
  {
   "cell_type": "code",
   "execution_count": 127,
   "metadata": {},
   "outputs": [
    {
     "data": {
      "text/plain": [
       "Text(0, 0.5, 'Count')"
      ]
     },
     "execution_count": 127,
     "metadata": {},
     "output_type": "execute_result"
    },
    {
     "data": {
      "image/png": "[encoded data removed]",
      "text/plain": [
       "<Figure size 432x288 with 1 Axes>"
      ]
     },
     "metadata": {
      "needs_background": "light"
     },
     "output_type": "display_data"
    }
   ],
   "source": [
    "plt.bar(['no island','island'],[66388,429])\n",
    "plt.title('Any islands after initial failures')\n",
    "plt.ylabel('Count')"
   ]
  },
  {
   "cell_type": "code",
   "execution_count": 128,
   "metadata": {},
   "outputs": [],
   "source": [
    "dataset.drop(['Island?','Served','Demand','Failed_lines_after_cascade_ends','Flow_capacity'],axis=1,inplace=True)"
   ]
  },
  {
   "cell_type": "markdown",
   "metadata": {},
   "source": [
    "- Here, our objective is to predict cascading failures. In the dataset, the output variables are Loadshed and Failed lines due to cascade. We define a normalized cascading effect variable as a linear combination of Loadshed and Failed lines due to cascade. "
   ]
  },
  {
   "cell_type": "code",
   "execution_count": 129,
   "metadata": {},
   "outputs": [],
   "source": [
    "scaler = MinMaxScaler()\n",
    "Scaled_data = scaler.fit_transform(dataset[['Loadshed','Failed_lines_due_to_cascade']])"
   ]
  },
  {
   "cell_type": "markdown",
   "metadata": {},
   "source": [
    "- After normalizing the data, we use a linear combination of  Loadshed and Failed lines due to cascade to calculate the cascading effect and then insert that into the dataframe."
   ]
  },
  {
   "cell_type": "code",
   "execution_count": 130,
   "metadata": {},
   "outputs": [],
   "source": [
    "scaled_df = pd.DataFrame(Scaled_data)\n",
    "scaled_df['Cascading effect'] = 0.5*scaled_df[0]+0.5*scaled_df[1]\n",
    "dataset =pd.concat((dataset,scaled_df['Cascading effect']),axis =1)"
   ]
  },
  {
   "cell_type": "code",
   "execution_count": 131,
   "metadata": {},
   "outputs": [
    {
     "data": {
      "text/html": [
       "<div>\n",
       "<style scoped>\n",
       "    .dataframe tbody tr th:only-of-type {\n",
       "        vertical-align: middle;\n",
       "    }\n",
       "\n",
       "    .dataframe tbody tr th {\n",
       "        vertical-align: top;\n",
       "    }\n",
       "\n",
       "    .dataframe thead th {\n",
       "        text-align: right;\n",
       "    }\n",
       "</style>\n",
       "<table border=\"1\" class=\"dataframe\">\n",
       "  <thead>\n",
       "    <tr style=\"text-align: right;\">\n",
       "      <th></th>\n",
       "      <th>Intial_failed_lines</th>\n",
       "      <th>Cmax</th>\n",
       "      <th>Cmin</th>\n",
       "      <th>Load_shedding_constraint</th>\n",
       "      <th>Load_generation_ratio</th>\n",
       "      <th>Capacity_estimation_error</th>\n",
       "      <th>Degree</th>\n",
       "      <th>Distance</th>\n",
       "      <th>Installed_capacity</th>\n",
       "      <th>Loadshed</th>\n",
       "      <th>Human_error_Probability</th>\n",
       "      <th>Generation</th>\n",
       "      <th>Alpha</th>\n",
       "      <th>Failed_lines_due_to_cascade</th>\n",
       "      <th>Cascading effect</th>\n",
       "    </tr>\n",
       "  </thead>\n",
       "  <tbody>\n",
       "    <tr>\n",
       "      <td>0</td>\n",
       "      <td>6</td>\n",
       "      <td>200</td>\n",
       "      <td>50</td>\n",
       "      <td>0.45</td>\n",
       "      <td>0.90</td>\n",
       "      <td>0.50</td>\n",
       "      <td>2.675</td>\n",
       "      <td>7.397</td>\n",
       "      <td>1550</td>\n",
       "      <td>6307</td>\n",
       "      <td>0.50</td>\n",
       "      <td>2663.0</td>\n",
       "      <td>0.2</td>\n",
       "      <td>80</td>\n",
       "      <td>0.736267</td>\n",
       "    </tr>\n",
       "    <tr>\n",
       "      <td>1</td>\n",
       "      <td>4</td>\n",
       "      <td>200</td>\n",
       "      <td>100</td>\n",
       "      <td>0.05</td>\n",
       "      <td>0.85</td>\n",
       "      <td>0.20</td>\n",
       "      <td>2.699</td>\n",
       "      <td>6.912</td>\n",
       "      <td>450</td>\n",
       "      <td>2934</td>\n",
       "      <td>0.50</td>\n",
       "      <td>5538.0</td>\n",
       "      <td>0.2</td>\n",
       "      <td>48</td>\n",
       "      <td>0.398677</td>\n",
       "    </tr>\n",
       "    <tr>\n",
       "      <td>2</td>\n",
       "      <td>7</td>\n",
       "      <td>200</td>\n",
       "      <td>100</td>\n",
       "      <td>0.40</td>\n",
       "      <td>0.75</td>\n",
       "      <td>0.01</td>\n",
       "      <td>2.663</td>\n",
       "      <td>6.951</td>\n",
       "      <td>1050</td>\n",
       "      <td>700</td>\n",
       "      <td>0.50</td>\n",
       "      <td>6774.0</td>\n",
       "      <td>0.2</td>\n",
       "      <td>10</td>\n",
       "      <td>0.087555</td>\n",
       "    </tr>\n",
       "    <tr>\n",
       "      <td>3</td>\n",
       "      <td>9</td>\n",
       "      <td>200</td>\n",
       "      <td>50</td>\n",
       "      <td>0.30</td>\n",
       "      <td>0.90</td>\n",
       "      <td>0.05</td>\n",
       "      <td>2.638</td>\n",
       "      <td>7.048</td>\n",
       "      <td>850</td>\n",
       "      <td>1507</td>\n",
       "      <td>0.29</td>\n",
       "      <td>7462.0</td>\n",
       "      <td>0.2</td>\n",
       "      <td>0</td>\n",
       "      <td>0.076366</td>\n",
       "    </tr>\n",
       "    <tr>\n",
       "      <td>4</td>\n",
       "      <td>3</td>\n",
       "      <td>200</td>\n",
       "      <td>50</td>\n",
       "      <td>0.05</td>\n",
       "      <td>0.85</td>\n",
       "      <td>0.35</td>\n",
       "      <td>2.712</td>\n",
       "      <td>6.855</td>\n",
       "      <td>300</td>\n",
       "      <td>3534</td>\n",
       "      <td>0.72</td>\n",
       "      <td>4937.0</td>\n",
       "      <td>0.2</td>\n",
       "      <td>79</td>\n",
       "      <td>0.590540</td>\n",
       "    </tr>\n",
       "  </tbody>\n",
       "</table>\n",
       "</div>"
      ],
      "text/plain": [
       "   Intial_failed_lines  Cmax  Cmin  Load_shedding_constraint  \\\n",
       "0                    6   200    50                      0.45   \n",
       "1                    4   200   100                      0.05   \n",
       "2                    7   200   100                      0.40   \n",
       "3                    9   200    50                      0.30   \n",
       "4                    3   200    50                      0.05   \n",
       "\n",
       "   Load_generation_ratio  Capacity_estimation_error  Degree  Distance  \\\n",
       "0                   0.90                       0.50   2.675     7.397   \n",
       "1                   0.85                       0.20   2.699     6.912   \n",
       "2                   0.75                       0.01   2.663     6.951   \n",
       "3                   0.90                       0.05   2.638     7.048   \n",
       "4                   0.85                       0.35   2.712     6.855   \n",
       "\n",
       "   Installed_capacity  Loadshed  Human_error_Probability  Generation  Alpha  \\\n",
       "0                1550      6307                     0.50      2663.0    0.2   \n",
       "1                 450      2934                     0.50      5538.0    0.2   \n",
       "2                1050       700                     0.50      6774.0    0.2   \n",
       "3                 850      1507                     0.29      7462.0    0.2   \n",
       "4                 300      3534                     0.72      4937.0    0.2   \n",
       "\n",
       "   Failed_lines_due_to_cascade  Cascading effect  \n",
       "0                           80          0.736267  \n",
       "1                           48          0.398677  \n",
       "2                           10          0.087555  \n",
       "3                            0          0.076366  \n",
       "4                           79          0.590540  "
      ]
     },
     "execution_count": 131,
     "metadata": {},
     "output_type": "execute_result"
    }
   ],
   "source": [
    "#Check the head of the dataset again\n",
    "dataset.head()"
   ]
  },
  {
   "cell_type": "markdown",
   "metadata": {},
   "source": [
    "### Data Visualization and storytelling\n",
    "\n",
    "*  In this section, I would use various visualization techniques to identify the important features for cascading failures. We can already get an excellent estimate by looking at the heatmap. For example, Loadshed and Failed lines due to cascade would have a high correlation with Cascading_effect as it was calculated as a linear combination of them. In the heatmap, both slots, (Loadshed, Cascading_effect) and (failed lines due to cascade, Cascading_effect) are marked with red color indicating a high positive correlation"
   ]
  },
  {
   "cell_type": "code",
   "execution_count": 132,
   "metadata": {},
   "outputs": [
    {
     "data": {
      "image/png": "[encoded data removed]",
      "text/plain": [
       "<Figure size 576x432 with 2 Axes>"
      ]
     },
     "metadata": {
      "needs_background": "light"
     },
     "output_type": "display_data"
    }
   ],
   "source": [
    "plt.subplots(figsize=(8,6))\n",
    "sns.heatmap(dataset.corr(),cmap ='coolwarm',)\n",
    "plt.title('Heatmap')\n",
    "plt.savefig('heatmap.png', format='png',bbox_inches='tight')"
   ]
  },
  {
   "cell_type": "markdown",
   "metadata": {},
   "source": [
    "The figure above represents the updated heatmap plot after removing unwanted columns."
   ]
  },
  {
   "cell_type": "code",
   "execution_count": 133,
   "metadata": {},
   "outputs": [],
   "source": [
    "dataset.rename(columns ={'Cascading effect':'Cascading_effect'},inplace = True)"
   ]
  },
  {
   "cell_type": "markdown",
   "metadata": {},
   "source": [
    "- First, let's look at the histograms of the dataset. \n",
    "\n",
    "- Checking the histogram of the cascading effect. It can be observed that the histogram looks bimodal. The first pick indicates a zone where no additional transmission liens were failed due to cascade, and no loads were shed, i.e., for the set of feature values, no cascading occurred. Similarly, the second pick represents that average cascading effect occurred at 0.35\n",
    "\n",
    "- The histogram of load-shedding is slightly skewed to the left, which is intuitive. This indicates the probability of a large cascading failure occurring is less. This also indicates that matpower optimal power flow (OPF)  is curtailing the loads efficiently to minimize the greater risk of a cascading failure. \n",
    "\n",
    "- The histogram of failed transmission lines due to cascade also validates the statement above. Looking at the histogram, we can see there are around 13500 points with zero additional failures, which is roughly around 20% of the samples. In those 20% samples, only zero/small load-shedding was performed but no additional line failures.  Note that in the data collection process, we kept the optimization constraint parameters for load-shedding as constant. for details on matpower power flow algorithms, please read the [matpower manual](https://matpower.org/docs/manual.pdf)\n",
    "\n",
    "- Finally, the bottom right histogram shows the frequency distribution of the human error probability used in the simulation. The human error probability was calculated based on operators' performance attributes and the distribution of the operators' performance attributes, see this [paper](https://ieeexplore.ieee.org/abstract/document/8905687/). The distribution of human operator errors was calculated from operator interviews using the SPAR-H methodology in prior research work. [[3]](https://journals.sagepub.com/doi/abs/10.1177/1541931215591144). "
   ]
  },
  {
   "cell_type": "code",
   "execution_count": 134,
   "metadata": {},
   "outputs": [
    {
     "data": {
      "text/plain": [
       "Text(0.5, 1.0, 'Distribution of human error probability of the samples')"
      ]
     },
     "execution_count": 134,
     "metadata": {},
     "output_type": "execute_result"
    },
    {
     "data": {
      "image/png": "[encoded data removed]",
      "text/plain": [
       "<Figure size 864x576 with 4 Axes>"
      ]
     },
     "metadata": {
      "needs_background": "light"
     },
     "output_type": "display_data"
    }
   ],
   "source": [
    "plt.figure(figsize=(12,8))\n",
    "plt.subplot(2,2,1)\n",
    "plt.hist(dataset.Cascading_effect, bins =30)\n",
    "plt.title('Histogram of cascading effect')\n",
    "plt.subplot(2,2,2)\n",
    "plt.hist(dataset.Loadshed,bins =30,cumulative=False,histtype='bar')\n",
    "plt.title('Histogram of Loadshedding')\n",
    "plt.subplot(2,2,3)\n",
    "plt.hist(dataset.Failed_lines_due_to_cascade,bins =30)\n",
    "plt.title('Histogram of Failed lines due to cascade')\n",
    "plt.subplot(2,2,4)\n",
    "dataset.Human_error_Probability.hist(bins = 50, grid = False)\n",
    "plt.title('Distribution of human error probability of the samples')"
   ]
  },
  {
   "cell_type": "markdown",
   "metadata": {},
   "source": [
    "- In the simulation, we first calculated the human error probability as described above, and then based on of the status power grid (represented by the load-generation ratio, load shedding constrain and capacity estimation error) we modified it using a small set of rules and then embedded it in the simulation to capture the effect of human errors on cascading failure\n"
   ]
  },
  {
   "cell_type": "markdown",
   "metadata": {},
   "source": [
    "Now let's look at some boxplots to see the joint relations between some variables."
   ]
  },
  {
   "cell_type": "code",
   "execution_count": 135,
   "metadata": {},
   "outputs": [
    {
     "data": {
      "text/plain": [
       "Index(['Intial_failed_lines', 'Cmax', 'Cmin', 'Load_shedding_constraint',\n",
       "       'Load_generation_ratio', 'Capacity_estimation_error', 'Degree',\n",
       "       'Distance', 'Installed_capacity', 'Loadshed', 'Human_error_Probability',\n",
       "       'Generation', 'Alpha', 'Failed_lines_due_to_cascade',\n",
       "       'Cascading_effect'],\n",
       "      dtype='object')"
      ]
     },
     "execution_count": 135,
     "metadata": {},
     "output_type": "execute_result"
    }
   ],
   "source": [
    "dataset.columns"
   ]
  },
  {
   "cell_type": "code",
   "execution_count": 136,
   "metadata": {},
   "outputs": [
    {
     "data": {
      "image/png": "[encoded data removed]",
      "text/plain": [
       "<Figure size 1008x720 with 4 Axes>"
      ]
     },
     "metadata": {
      "needs_background": "light"
     },
     "output_type": "display_data"
    }
   ],
   "source": [
    "plt.figure(figsize=(14,10))\n",
    "\n",
    "plt.subplot(2,2,1)\n",
    "plt.title('cascading_effect vs load-generation ratio')\n",
    "sns.boxplot(y = 'Cascading_effect', x ='Load_generation_ratio', data=dataset)\n",
    "\n",
    "plt.subplot(2,2,2)\n",
    "plt.title('Loadshed vs load-generation ratio')\n",
    "sns.boxplot(y = 'Loadshed', x ='Load_generation_ratio', data=dataset)\n",
    "plt.subplot(2,2,3)\n",
    "plt.title(' Line failures vs load-generation ratio')\n",
    "sns.boxplot(y = 'Failed_lines_due_to_cascade', x ='Load_generation_ratio', data=dataset)\n",
    "plt.subplot(2,2,4)\n",
    "plt.title(' Generation vs load-generation ratio')\n",
    "sns.boxplot(y = 'Generation', x ='Load_generation_ratio', data=dataset)\n",
    "\n",
    "plt.savefig('loadshedding vs load-generation ratio ratio.png', format='png',bbox_inches='tight')"
   ]
  },
  {
   "cell_type": "markdown",
   "metadata": {},
   "source": [
    "- In the plots above, we show the changes in various variables with changes in the load-generation ratio. As the name suggests, the load-generation ratio is the ratio between load demand and maximum generation. This value is a measure of the stress of the grid and can range between (0,1). Intuitively, a high load-generation ratio increases the stress on the grid to serve more customers, which increases the probability of a cascading failure. Here we considered load-generation ratios between 0.5 and 0.99.\n",
    "\n",
    "- The upper left plot shows that the average cascading effect increases with the increase in load-generation ratio.\n",
    "\n",
    "- One might expect that the failed lines due to cascade and loadshed also would increase with load-generation ratio; however, from subplots 2 and 3, we can see that load-shedding increases with load-generation ratio. But line failures are somewhat decreasing, which is very interesting. Most of the research articles don't consider load-shedding as a parameter and extrapolates that with demand increases, it's highly likely that line failures increase. In our simulations, you use load-shedding to minimize line failures/cascading failures. Thus, when the grid is stressed, it is doing more load-shedding to minimize the number of transmission line failures.\n",
    "\n",
    "- As stated above, we did not change the load-shedding cost settings in the simulations. This can be observed from the bottom-right plot. With the increase in the load-generation ratio, power generation did not increase as much (maximum possible generation 9966MW). This indicates that the cost of load-shedding is lower than the cost of generation in the selected setting on average.  "
   ]
  },
  {
   "cell_type": "code",
   "execution_count": 137,
   "metadata": {},
   "outputs": [
    {
     "data": {
      "text/plain": [
       "Text(0.5, 1.0, 'amount of load-shed vs Load-shedding capability')"
      ]
     },
     "execution_count": 137,
     "metadata": {},
     "output_type": "execute_result"
    },
    {
     "data": {
      "image/png": "[encoded data removed]",
      "text/plain": [
       "<Figure size 432x288 with 1 Axes>"
      ]
     },
     "metadata": {
      "needs_background": "light"
     },
     "output_type": "display_data"
    }
   ],
   "source": [
    "chart= sns.boxplot(dataset.Load_shedding_constraint,dataset.Loadshed)\n",
    "chart.set_xticklabels(chart.get_xticklabels(), rotation=45)\n",
    "plt.title('amount of load-shed vs Load-shedding capability')"
   ]
  },
  {
   "cell_type": "markdown",
   "metadata": {},
   "source": [
    "The boxplot above shows an interesting observation. The average of the amount of loadshed is fairly the same for load-shedding constraint values from 0 to 0.5. But, it increases exponentially for load-shedding constraint values >0.5. After careful analysis, I found that when the load-shedding constrain is very high, we are allowing more and load loads to participate in load-shedding, and the OPF is shedding the loads based on cost setting. "
   ]
  },
  {
   "cell_type": "code",
   "execution_count": 138,
   "metadata": {},
   "outputs": [
    {
     "data": {
      "text/plain": [
       "Text(0.5, 1.0, 'capacity estimation error vs loadshedding')"
      ]
     },
     "execution_count": 138,
     "metadata": {},
     "output_type": "execute_result"
    },
    {
     "data": {
      "image/png": "[encoded data removed]",
      "text/plain": [
       "<Figure size 432x288 with 1 Axes>"
      ]
     },
     "metadata": {
      "needs_background": "light"
     },
     "output_type": "display_data"
    }
   ],
   "source": [
    "sns.boxplot(dataset.Capacity_estimation_error,dataset.Loadshed)\n",
    "plt.title ('capacity estimation error vs loadshedding')"
   ]
  },
  {
   "cell_type": "markdown",
   "metadata": {},
   "source": [
    "We observe from the boxplot above that the amount of load-shedding increases with capacity estimation errors."
   ]
  },
  {
   "cell_type": "code",
   "execution_count": 139,
   "metadata": {},
   "outputs": [
    {
     "data": {
      "text/plain": [
       "<matplotlib.axes._subplots.AxesSubplot at 0x27dbae67108>"
      ]
     },
     "execution_count": 139,
     "metadata": {},
     "output_type": "execute_result"
    },
    {
     "data": {
      "image/png": "[encoded data removed]",
      "text/plain": [
       "<Figure size 864x288 with 2 Axes>"
      ]
     },
     "metadata": {
      "needs_background": "light"
     },
     "output_type": "display_data"
    }
   ],
   "source": [
    "plt.figure(figsize=(12,4))\n",
    "plt.subplot(1,2,1)\n",
    "plt.title('cascading effect vs alpha')\n",
    "\n",
    "sns.boxplot(dataset.Alpha,dataset.Cascading_effect)\n",
    "plt.subplot(1,2,2)\n",
    "plt.title('Loadhsed vs alpha')\n",
    "\n",
    "sns.boxplot(dataset.Alpha,dataset.Loadshed)"
   ]
  },
  {
   "cell_type": "markdown",
   "metadata": {},
   "source": [
    "Alpha is a parameter introduced to vary the effect of overloading in the transmission lines. A higher value of alpha adds some buffer capacity in the transmission lines to cope with the overloading.  As expected, the amount of loadshed and cascading effect decreases with alpha."
   ]
  },
  {
   "cell_type": "code",
   "execution_count": 140,
   "metadata": {},
   "outputs": [
    {
     "data": {
      "text/plain": [
       "<matplotlib.axes._subplots.AxesSubplot at 0x27dcf993fc8>"
      ]
     },
     "execution_count": 140,
     "metadata": {},
     "output_type": "execute_result"
    },
    {
     "data": {
      "image/png": "[encoded data removed]",
      "text/plain": [
       "<Figure size 432x288 with 1 Axes>"
      ]
     },
     "metadata": {
      "needs_background": "light"
     },
     "output_type": "display_data"
    }
   ],
   "source": [
    "sns.scatterplot(dataset.Loadshed, dataset.Generation)"
   ]
  },
  {
   "cell_type": "markdown",
   "metadata": {},
   "source": [
    "The scatterplot above shows a negative linear correlation between generation and Loadshedding. We need to remove generation from the feature set to avoid colinearity."
   ]
  },
  {
   "cell_type": "code",
   "execution_count": 141,
   "metadata": {},
   "outputs": [
    {
     "data": {
      "text/plain": [
       "Text(0.5, 1.0, 'cascading effect vs degree')"
      ]
     },
     "execution_count": 141,
     "metadata": {},
     "output_type": "execute_result"
    },
    {
     "data": {
      "image/png": "[encoded data removed]",
      "text/plain": [
       "<Figure size 864x288 with 2 Axes>"
      ]
     },
     "metadata": {
      "needs_background": "light"
     },
     "output_type": "display_data"
    }
   ],
   "source": [
    "plt.figure(figsize=(12,4))\n",
    "plt.subplot(1,2,1)\n",
    "sns.scatterplot(dataset.Distance,dataset.Cascading_effect)\n",
    "plt.title('cascading effect vs distance')\n",
    "plt.subplot(1,2,2)\n",
    "sns.scatterplot(dataset.Degree, dataset.Cascading_effect)\n",
    "plt.title('cascading effect vs degree')\n"
   ]
  },
  {
   "cell_type": "markdown",
   "metadata": {},
   "source": [
    "The plots above represent the effect of topological variables on cascading failures. There are no visible patterns between degree and distance with cascading failure. We can remove these two features from the data set as well. But I will keep them for now and may delete them during model tuning."
   ]
  },
  {
   "cell_type": "code",
   "execution_count": 142,
   "metadata": {},
   "outputs": [
    {
     "data": {
      "text/plain": [
       "Text(0.5, 1.0, 'cascading effect vs degree')"
      ]
     },
     "execution_count": 142,
     "metadata": {},
     "output_type": "execute_result"
    },
    {
     "data": {
      "image/png": "[encoded data removed]",
      "text/plain": [
       "<Figure size 864x288 with 2 Axes>"
      ]
     },
     "metadata": {
      "needs_background": "light"
     },
     "output_type": "display_data"
    }
   ],
   "source": [
    "plt.figure(figsize=(12,4))\n",
    "plt.subplot(1,2,1)\n",
    "sns.boxplot(dataset.Cmax,dataset.Cascading_effect)\n",
    "plt.title('cascading effect vs distance')\n",
    "plt.subplot(1,2,2)\n",
    "sns.boxplot(dataset.Cmin, dataset.Cascading_effect)\n",
    "plt.title('cascading effect vs degree')"
   ]
  },
  {
   "cell_type": "markdown",
   "metadata": {},
   "source": [
    "There is a very low effect of the maximum and the minimum capacity of the failed lines on the cascading effect. We still would like to keep them as features as other works consider them as important features. "
   ]
  },
  {
   "cell_type": "code",
   "execution_count": 143,
   "metadata": {},
   "outputs": [
    {
     "data": {
      "text/plain": [
       "Text(0.5, 0, 'cascading effect')"
      ]
     },
     "execution_count": 143,
     "metadata": {},
     "output_type": "execute_result"
    },
    {
     "data": {
      "image/png": "[encoded data removed]",
      "text/plain": [
       "<Figure size 432x288 with 1 Axes>"
      ]
     },
     "metadata": {
      "needs_background": "light"
     },
     "output_type": "display_data"
    }
   ],
   "source": [
    "plt.hist(dataset.Cascading_effect, bins =70)\n",
    "plt.title('Histogram of cascading effect')\n",
    "plt.xlabel('cascading effect')"
   ]
  },
  {
   "cell_type": "code",
   "execution_count": 144,
   "metadata": {},
   "outputs": [
    {
     "data": {
      "text/plain": [
       "Text(0.5, 0, 'Load-shedding')"
      ]
     },
     "execution_count": 144,
     "metadata": {},
     "output_type": "execute_result"
    },
    {
     "data": {
      "image/png": "[encoded data removed]",
      "text/plain": [
       "<Figure size 432x288 with 1 Axes>"
      ]
     },
     "metadata": {
      "needs_background": "light"
     },
     "output_type": "display_data"
    }
   ],
   "source": [
    "plt.hist(dataset.Loadshed,bins =70,cumulative=False,histtype='bar')\n",
    "plt.title('Histogram of Load-shedding')\n",
    "plt.xlabel('Load-shedding')"
   ]
  },
  {
   "cell_type": "code",
   "execution_count": 145,
   "metadata": {},
   "outputs": [
    {
     "data": {
      "text/plain": [
       "Text(0.5, 0, 'Failed Lines due to cascade')"
      ]
     },
     "execution_count": 145,
     "metadata": {},
     "output_type": "execute_result"
    },
    {
     "data": {
      "image/png": "[encoded data removed]",
      "text/plain": [
       "<Figure size 432x288 with 1 Axes>"
      ]
     },
     "metadata": {
      "needs_background": "light"
     },
     "output_type": "display_data"
    }
   ],
   "source": [
    "plt.hist(dataset.Failed_lines_due_to_cascade,bins =45)\n",
    "plt.title('Histogram of Failed lines due to cascade')\n",
    "plt.xlabel('Failed Lines due to cascade')"
   ]
  },
  {
   "cell_type": "code",
   "execution_count": 146,
   "metadata": {},
   "outputs": [
    {
     "data": {
      "text/plain": [
       "<matplotlib.axes._subplots.AxesSubplot at 0x27dd0acbac8>"
      ]
     },
     "execution_count": 146,
     "metadata": {},
     "output_type": "execute_result"
    },
    {
     "data": {
      "image/png": "[encoded data removed]",
      "text/plain": [
       "<Figure size 432x288 with 1 Axes>"
      ]
     },
     "metadata": {
      "needs_background": "light"
     },
     "output_type": "display_data"
    }
   ],
   "source": [
    "plt.title('Load-shedding vs load-generation ratio')\n",
    "sns.boxplot(y = 'Loadshed', x ='Load_generation_ratio', data=dataset)"
   ]
  },
  {
   "cell_type": "code",
   "execution_count": 147,
   "metadata": {},
   "outputs": [
    {
     "data": {
      "text/plain": [
       "<matplotlib.axes._subplots.AxesSubplot at 0x27dd0c1ee08>"
      ]
     },
     "execution_count": 147,
     "metadata": {},
     "output_type": "execute_result"
    },
    {
     "data": {
      "image/png": "[encoded data removed]",
      "text/plain": [
       "<Figure size 432x288 with 1 Axes>"
      ]
     },
     "metadata": {
      "needs_background": "light"
     },
     "output_type": "display_data"
    }
   ],
   "source": [
    "plt.title(' Line failures vs load-generation ratio')\n",
    "sns.boxplot(y = 'Failed_lines_due_to_cascade', x ='Load_generation_ratio', data=dataset)"
   ]
  },
  {
   "cell_type": "code",
   "execution_count": 148,
   "metadata": {},
   "outputs": [
    {
     "data": {
      "text/plain": [
       "Text(0.5, 1.0, 'cascading effect vs Installed_capacity')"
      ]
     },
     "execution_count": 148,
     "metadata": {},
     "output_type": "execute_result"
    },
    {
     "data": {
      "image/png": "[encoded data removed]",
      "text/plain": [
       "<Figure size 864x288 with 3 Axes>"
      ]
     },
     "metadata": {
      "needs_background": "light"
     },
     "output_type": "display_data"
    }
   ],
   "source": [
    "plt.figure(figsize=(12,4))\n",
    "plt.subplot(1,3,1)\n",
    "sns.scatterplot(dataset.Cmax,dataset.Cascading_effect)\n",
    "plt.title('cascading effect vs Cmax')\n",
    "plt.subplot(1,3,2)\n",
    "sns.scatterplot(dataset.Cmin, dataset.Cascading_effect)\n",
    "plt.title('cascading effect vs Cmin')\n",
    "plt.subplot(1,3,3)\n",
    "sns.scatterplot(dataset.Installed_capacity, dataset.Cascading_effect)\n",
    "plt.title('cascading effect vs Installed_capacity')\n"
   ]
  },
  {
   "cell_type": "code",
   "execution_count": 149,
   "metadata": {},
   "outputs": [
    {
     "name": "stdout",
     "output_type": "stream",
     "text": [
      "<class 'pandas.core.frame.DataFrame'>\n",
      "RangeIndex: 66817 entries, 0 to 66816\n",
      "Data columns (total 15 columns):\n",
      "Intial_failed_lines            66817 non-null int64\n",
      "Cmax                           66817 non-null int64\n",
      "Cmin                           66817 non-null int64\n",
      "Load_shedding_constraint       66817 non-null float64\n",
      "Load_generation_ratio          66817 non-null float64\n",
      "Capacity_estimation_error      66817 non-null float64\n",
      "Degree                         66817 non-null float64\n",
      "Distance                       66817 non-null float64\n",
      "Installed_capacity             66817 non-null int64\n",
      "Loadshed                       66817 non-null int64\n",
      "Human_error_Probability        66817 non-null float64\n",
      "Generation                     66817 non-null float64\n",
      "Alpha                          66817 non-null float64\n",
      "Failed_lines_due_to_cascade    66817 non-null int64\n",
      "Cascading_effect               66817 non-null float64\n",
      "dtypes: float64(9), int64(6)\n",
      "memory usage: 7.6 MB\n"
     ]
    }
   ],
   "source": [
    "dataset.info()"
   ]
  },
  {
   "cell_type": "code",
   "execution_count": 150,
   "metadata": {},
   "outputs": [
    {
     "data": {
      "text/plain": [
       "<matplotlib.axes._subplots.AxesSubplot at 0x27db70a7b88>"
      ]
     },
     "execution_count": 150,
     "metadata": {},
     "output_type": "execute_result"
    },
    {
     "data": {
      "image/png": "[encoded data removed]",
      "text/plain": [
       "<Figure size 432x288 with 2 Axes>"
      ]
     },
     "metadata": {
      "needs_background": "light"
     },
     "output_type": "display_data"
    }
   ],
   "source": [
    "sns.heatmap(dataset.corr(),cmap ='coolwarm')"
   ]
  },
  {
   "cell_type": "markdown",
   "metadata": {},
   "source": [
    "#  Logistic Regression:"
   ]
  },
  {
   "cell_type": "code",
   "execution_count": 151,
   "metadata": {},
   "outputs": [
    {
     "data": {
      "text/plain": [
       "Index(['Intial_failed_lines', 'Cmax', 'Cmin', 'Load_shedding_constraint',\n",
       "       'Load_generation_ratio', 'Capacity_estimation_error', 'Degree',\n",
       "       'Distance', 'Installed_capacity', 'Loadshed', 'Human_error_Probability',\n",
       "       'Generation', 'Alpha', 'Failed_lines_due_to_cascade',\n",
       "       'Cascading_effect'],\n",
       "      dtype='object')"
      ]
     },
     "execution_count": 151,
     "metadata": {},
     "output_type": "execute_result"
    }
   ],
   "source": [
    "dataset.columns"
   ]
  },
  {
   "cell_type": "code",
   "execution_count": 185,
   "metadata": {},
   "outputs": [],
   "source": [
    "dataset['Cascading?']= dataset.Cascading_effect>dataset.Cascading_effect.mean()\n",
    "dataset['Cascading?'] = np.where(dataset['Cascading?'], '1', '0')"
   ]
  },
  {
   "cell_type": "code",
   "execution_count": 186,
   "metadata": {},
   "outputs": [
    {
     "name": "stdout",
     "output_type": "stream",
     "text": [
      "Accuracy: 0.8719694702184975\n",
      "              precision    recall  f1-score   support\n",
      "\n",
      "           0       0.86      0.87      0.87      6362\n",
      "           1       0.88      0.88      0.88      7002\n",
      "\n",
      "    accuracy                           0.87     13364\n",
      "   macro avg       0.87      0.87      0.87     13364\n",
      "weighted avg       0.87      0.87      0.87     13364\n",
      "\n"
     ]
    }
   ],
   "source": [
    "# Logistic regression without tuning\n",
    "\n",
    "X =dataset[['Intial_failed_lines',  'Load_shedding_constraint',\n",
    "       'Load_generation_ratio', 'Capacity_estimation_error','Human_error_Probability','Alpha',\n",
    "            'Cmax','Installed_capacity','Degree',  'Distance']]\n",
    "y = dataset['Cascading?']\n",
    "\n",
    "#scaling\n",
    "from sklearn.preprocessing import StandardScaler\n",
    "sc = StandardScaler()\n",
    "X = sc.fit_transform(X)\n",
    "\n",
    "#train test split\n",
    "from sklearn.model_selection import train_test_split\n",
    "X_train, X_test, y_train, y_test = train_test_split(X, y, test_size=0.2, random_state=101)\n",
    "\n",
    "#training\n",
    "from sklearn.linear_model import LogisticRegression\n",
    "logmodel = LogisticRegression()\n",
    "logmodel.fit(X_train,y_train)\n",
    "\n",
    "# prediction using model\n",
    "from sklearn.metrics import accuracy_score\n",
    "prediction = logmodel.predict(X_test)\n",
    "#evaluation(Accuracy)\n",
    "from sklearn.metrics import accuracy_score\n",
    "\n",
    "print(\"Accuracy:\",accuracy_score(prediction,y_test))\n",
    "#evaluation\n",
    "from sklearn.metrics import classification_report\n",
    "print(classification_report(y_test,prediction))"
   ]
  },
  {
   "cell_type": "code",
   "execution_count": 154,
   "metadata": {},
   "outputs": [
    {
     "data": {
      "text/plain": [
       "[(0.001, 0.870323256510027),\n",
       " (0.01, 0.870323256510027),\n",
       " (0.1, 0.8709967075725831),\n",
       " (1, 0.8712211912601018),\n",
       " (10, 0.8712211912601018),\n",
       " (100, 0.8712211912601018)]"
      ]
     },
     "execution_count": 154,
     "metadata": {},
     "output_type": "execute_result"
    }
   ],
   "source": [
    "from sklearn.model_selection import GridSearchCV\n",
    "\n",
    "C_param_range = [0.001,0.01,0.1,1,10,100]\n",
    "score =[]\n",
    "\n",
    "accuracy = []\n",
    "for i in C_param_range:\n",
    "    \n",
    "    # Apply logistic regression model to training data\n",
    "    lr = LogisticRegression(penalty = 'l2',C = i)\n",
    "\n",
    "    lr.fit(X_train,y_train)\n",
    "\n",
    "    # Predict using model\n",
    "    y_pred = lr.predict(X_test)\n",
    "    \n",
    "    score.append((i,accuracy_score(y_test, y_pred)))\n",
    "    accuracy.append(accuracy_score(y_test, y_pred))\n",
    "\n",
    "score"
   ]
  },
  {
   "cell_type": "markdown",
   "metadata": {},
   "source": [
    "# k-Nearest Neighbors"
   ]
  },
  {
   "cell_type": "code",
   "execution_count": 155,
   "metadata": {},
   "outputs": [
    {
     "name": "stdout",
     "output_type": "stream",
     "text": [
      "Accuracy: 0.8695001496557917\n",
      "              precision    recall  f1-score   support\n",
      "\n",
      "           0       0.86      0.87      0.86      6362\n",
      "           1       0.88      0.87      0.87      7002\n",
      "\n",
      "    accuracy                           0.87     13364\n",
      "   macro avg       0.87      0.87      0.87     13364\n",
      "weighted avg       0.87      0.87      0.87     13364\n",
      "\n"
     ]
    }
   ],
   "source": [
    "# k-Nearest Neighbors Without default parameters\n",
    "#importing modules\n",
    "\n",
    "from sklearn.neighbors import KNeighborsClassifier\n",
    "\n",
    "#making the instance\n",
    "model = KNeighborsClassifier(n_jobs=-1)\n",
    "\n",
    "#Learning\n",
    "model.fit(X_train,y_train)\n",
    "\n",
    "#Prediction\n",
    "prediction=model.predict(X_test)\n",
    "\n",
    "#evaluation(Accuracy)\n",
    "from sklearn.metrics import accuracy_score\n",
    "from sklearn.metrics import confusion_matrix\n",
    "print(\"Accuracy:\",accuracy_score(prediction,y_test))\n",
    "\n",
    "#evaluation\n",
    "from sklearn.metrics import classification_report\n",
    "print(classification_report(y_test,prediction))"
   ]
  },
  {
   "cell_type": "code",
   "execution_count": 156,
   "metadata": {},
   "outputs": [
    {
     "name": "stdout",
     "output_type": "stream",
     "text": [
      "Best Hyper Parameters:\n",
      " {'algorithm': 'auto', 'leaf_size': 1, 'n_jobs': -1, 'n_neighbors': 10, 'weights': 'distance'}\n",
      "Accuracy: 0.8781053576773421\n",
      "              precision    recall  f1-score   support\n",
      "\n",
      "           0       0.86      0.89      0.87      6362\n",
      "           1       0.89      0.87      0.88      7002\n",
      "\n",
      "    accuracy                           0.88     13364\n",
      "   macro avg       0.88      0.88      0.88     13364\n",
      "weighted avg       0.88      0.88      0.88     13364\n",
      "\n"
     ]
    }
   ],
   "source": [
    "#With Hyper Parameters Tuning\n",
    "#2-4,kNearestNeighbors\n",
    "#importing modules\n",
    "from sklearn.model_selection import GridSearchCV\n",
    "from sklearn.neighbors import KNeighborsClassifier\n",
    "#making the instance\n",
    "model = KNeighborsClassifier(n_jobs=-1)\n",
    "#Hyper Parameters Set\n",
    "params = {'n_neighbors':[5,10],\n",
    "          'leaf_size':[1,5],\n",
    "          'weights':['uniform', 'distance'],\n",
    "          'algorithm':['auto'],\n",
    "          'n_jobs':[-1]}\n",
    "#Making models with hyper parameters sets\n",
    "model = GridSearchCV(model, param_grid=params, n_jobs=1)\n",
    "#Learning\n",
    "model.fit(X_train,y_train)\n",
    "#The best hyper parameters set\n",
    "print(\"Best Hyper Parameters:\\n\",model.best_params_)\n",
    "#Prediction\n",
    "prediction=model.predict(X_test)\n",
    "#importing the metrics module\n",
    "from sklearn import metrics\n",
    "\n",
    "#evaluation(Accuracy)\n",
    "print(\"Accuracy:\",metrics.accuracy_score(prediction,y_test))\n",
    "\n",
    "#evaluation(classification report)\n",
    "from sklearn.metrics import classification_report\n",
    "print(classification_report(y_test,prediction))"
   ]
  },
  {
   "cell_type": "markdown",
   "metadata": {},
   "source": [
    "# Decision tree"
   ]
  },
  {
   "cell_type": "code",
   "execution_count": 157,
   "metadata": {},
   "outputs": [
    {
     "name": "stdout",
     "output_type": "stream",
     "text": [
      "Accuracy: 0.8466028135288836\n",
      "              precision    recall  f1-score   support\n",
      "\n",
      "           0       0.84      0.83      0.84      6362\n",
      "           1       0.85      0.86      0.85      7002\n",
      "\n",
      "    accuracy                           0.85     13364\n",
      "   macro avg       0.85      0.85      0.85     13364\n",
      "weighted avg       0.85      0.85      0.85     13364\n",
      "\n"
     ]
    }
   ],
   "source": [
    "#Decision tree using default parameters\n",
    "#importing modules\n",
    "from sklearn.model_selection import GridSearchCV\n",
    "from sklearn.tree import DecisionTreeClassifier\n",
    "from sklearn.metrics import classification_report\n",
    "\n",
    "#making the instance\n",
    "model= DecisionTreeClassifier()\n",
    "\n",
    "#Learning\n",
    "model.fit(X_train,y_train)\n",
    "\n",
    "#Prediction\n",
    "prediction=model.predict(X_test)\n",
    "\n",
    "#importing the metrics module\n",
    "from sklearn import metrics\n",
    "\n",
    "#evaluation(Accuracy)\n",
    "print(\"Accuracy:\",metrics.accuracy_score(prediction,y_test))\n",
    "\n",
    "#evaluation (classification report)\n",
    "from sklearn.metrics import classification_report\n",
    "print(classification_report(y_test,prediction))"
   ]
  },
  {
   "cell_type": "code",
   "execution_count": 158,
   "metadata": {},
   "outputs": [
    {
     "name": "stdout",
     "output_type": "stream",
     "text": [
      "Best Hyper Parameters:\n",
      " {'criterion': 'gini', 'max_features': 'auto', 'min_samples_leaf': 10, 'min_samples_split': 5}\n",
      "Accuracy: 0.8693504938641126\n",
      "              precision    recall  f1-score   support\n",
      "\n",
      "           0       0.86      0.87      0.86      6362\n",
      "           1       0.88      0.87      0.87      7002\n",
      "\n",
      "    accuracy                           0.87     13364\n",
      "   macro avg       0.87      0.87      0.87     13364\n",
      "weighted avg       0.87      0.87      0.87     13364\n",
      "\n"
     ]
    }
   ],
   "source": [
    "#Decision tree With Hyper Parameters Tuning\n",
    "#importing modules\n",
    "from sklearn.model_selection import GridSearchCV\n",
    "from sklearn.tree import DecisionTreeClassifier\n",
    "from sklearn.metrics import classification_report\n",
    "\n",
    "#making the instance\n",
    "model= DecisionTreeClassifier(random_state=1234)\n",
    "#Hyper Parameters Set\n",
    "params = {'max_features': ['auto',],\n",
    "          'min_samples_split': [5,10,15], \n",
    "          'min_samples_leaf':[5,10],\n",
    "          'criterion' :['gini', 'entropy'], \n",
    "          }\n",
    "#Making models with hyper parameters sets\n",
    "model = GridSearchCV(model, param_grid=params, n_jobs=1)\n",
    "\n",
    "#Learning\n",
    "model.fit(X_train,y_train)\n",
    "\n",
    "#The best hyper parameters set\n",
    "print(\"Best Hyper Parameters:\\n\",model.best_params_)\n",
    "\n",
    "#Prediction\n",
    "prediction=model.predict(X_test)\n",
    "#importing the metrics module\n",
    "\n",
    "from sklearn import metrics\n",
    "#evaluation(Accuracy)\n",
    "print(\"Accuracy:\",metrics.accuracy_score(prediction,y_test))\n",
    "\n",
    "#evaluation(Confusion Metrix)\n",
    "print(classification_report(y_test,prediction))"
   ]
  },
  {
   "cell_type": "markdown",
   "metadata": {},
   "source": [
    "# Support vector machines "
   ]
  },
  {
   "cell_type": "code",
   "execution_count": 159,
   "metadata": {},
   "outputs": [
    {
     "name": "stdout",
     "output_type": "stream",
     "text": [
      "Accuracy: 0.8890302304699191\n",
      "              precision    recall  f1-score   support\n",
      "\n",
      "           0       0.88      0.89      0.88      6362\n",
      "           1       0.90      0.89      0.89      7002\n",
      "\n",
      "    accuracy                           0.89     13364\n",
      "   macro avg       0.89      0.89      0.89     13364\n",
      "weighted avg       0.89      0.89      0.89     13364\n",
      "\n"
     ]
    }
   ],
   "source": [
    "#Support vector machines with default parameters\n",
    "#importing modules\n",
    "from sklearn import svm\n",
    "#making the instance\n",
    "model=svm.SVC()\n",
    "\n",
    "#Learning\n",
    "model.fit(X_train,y_train)\n",
    "\n",
    "#Prediction\n",
    "prediction=model.predict(X_test)\n",
    "#importing the metrics module\n",
    "from sklearn import metrics\n",
    "#evaluation(Accuracy)\n",
    "print(\"Accuracy:\",metrics.accuracy_score(prediction,y_test))\n",
    "\n",
    "#evaluation(Confusion Metrix)\n",
    "print(classification_report(y_test,prediction))"
   ]
  },
  {
   "cell_type": "code",
   "execution_count": 160,
   "metadata": {},
   "outputs": [
    {
     "name": "stdout",
     "output_type": "stream",
     "text": [
      "Best Hyper Parameters:\n",
      " {'C': 5, 'kernel': 'rbf'}\n",
      "Accuracy: 0.8888057467824004\n",
      "              precision    recall  f1-score   support\n",
      "\n",
      "           0       0.87      0.90      0.88      6362\n",
      "           1       0.90      0.88      0.89      7002\n",
      "\n",
      "    accuracy                           0.89     13364\n",
      "   macro avg       0.89      0.89      0.89     13364\n",
      "weighted avg       0.89      0.89      0.89     13364\n",
      "\n"
     ]
    }
   ],
   "source": [
    "#Support vector machines with hyperparameter tuning parameters\n",
    "#importing modules\n",
    "from sklearn.model_selection import GridSearchCV\n",
    "from sklearn import svm\n",
    "#making the instance\n",
    "model=svm.SVC()\n",
    "#Hyper Parameters Set\n",
    "params = {'C': [0.1,1,5], \n",
    "          'kernel': ['linear','rbf']}\n",
    "#Making models with hyper parameters sets\n",
    "model = GridSearchCV(model, param_grid=params, n_jobs=1)\n",
    "#Learning\n",
    "model.fit(X_train,y_train)\n",
    "#The best hyper parameters set\n",
    "print(\"Best Hyper Parameters:\\n\",model.best_params_)\n",
    "#Prediction\n",
    "prediction=model.predict(X_test)\n",
    "#importing the metrics module\n",
    "from sklearn import metrics\n",
    "#evaluation(Accuracy)\n",
    "print(\"Accuracy:\",metrics.accuracy_score(prediction,y_test))\n",
    "\n",
    "#evaluation(classification report)\n",
    "print(classification_report(y_test,prediction))"
   ]
  },
  {
   "cell_type": "markdown",
   "metadata": {},
   "source": [
    "# Random Forest "
   ]
  },
  {
   "cell_type": "code",
   "execution_count": 161,
   "metadata": {},
   "outputs": [
    {
     "name": "stdout",
     "output_type": "stream",
     "text": [
      "Accuracy: 0.8887309188865609\n",
      "              precision    recall  f1-score   support\n",
      "\n",
      "           0       0.88      0.89      0.88      6362\n",
      "           1       0.90      0.89      0.89      7002\n",
      "\n",
      "    accuracy                           0.89     13364\n",
      "   macro avg       0.89      0.89      0.89     13364\n",
      "weighted avg       0.89      0.89      0.89     13364\n",
      "\n"
     ]
    }
   ],
   "source": [
    "# Random Forest with defaults hyperparameters \n",
    "# importing modules\n",
    "from sklearn.model_selection import GridSearchCV\n",
    "from sklearn.ensemble import RandomForestClassifier\n",
    "#making the instance\n",
    "model=RandomForestClassifier()\n",
    "\n",
    "#Learning\n",
    "model.fit(X_train, y_train)\n",
    "\n",
    "#Prediction\n",
    "prediction=model.predict(X_test)\n",
    "\n",
    "#importing the metrics module\n",
    "from sklearn import metrics\n",
    "\n",
    "#evaluation(Accuracy)\n",
    "print(\"Accuracy:\",metrics.accuracy_score(prediction,y_test))\n",
    "\n",
    "#evaluation(classification report)\n",
    "print(classification_report(y_test,prediction))"
   ]
  },
  {
   "cell_type": "code",
   "execution_count": 162,
   "metadata": {},
   "outputs": [
    {
     "name": "stdout",
     "output_type": "stream",
     "text": [
      "Best Hyper Parameters:\n",
      " {'criterion': 'gini', 'min_samples_leaf': 10, 'min_samples_split': 10, 'n_estimators': 50}\n",
      "Accuracy: 0.8932954205327747\n",
      "              precision    recall  f1-score   support\n",
      "\n",
      "           0       0.88      0.89      0.89      6362\n",
      "           1       0.90      0.89      0.90      7002\n",
      "\n",
      "    accuracy                           0.89     13364\n",
      "   macro avg       0.89      0.89      0.89     13364\n",
      "weighted avg       0.89      0.89      0.89     13364\n",
      "\n"
     ]
    }
   ],
   "source": [
    "# Random Forest with hyperparameter tuning parameters\n",
    "# importing modules\n",
    "from sklearn.model_selection import GridSearchCV\n",
    "from sklearn.ensemble import RandomForestClassifier\n",
    "\n",
    "#making the instance\n",
    "model=RandomForestClassifier()\n",
    "\n",
    "#hyper parameters set\n",
    "params = {'criterion':['gini','entropy'],\n",
    "          'n_estimators':[50],\n",
    "          'min_samples_leaf':[5,10],\n",
    "          'min_samples_split':[5,10]}\n",
    "\n",
    "#Making models with hyper parameters sets\n",
    "model = GridSearchCV(model, param_grid=params)\n",
    "\n",
    "#Learning\n",
    "model.fit(X_train, y_train)\n",
    "\n",
    "#The best hyper parameters set\n",
    "print(\"Best Hyper Parameters:\\n\",model.best_params_)\n",
    "\n",
    "#Prediction\n",
    "prediction=model.predict(X_test)\n",
    "\n",
    "#importing the metrics module\n",
    "from sklearn import metrics\n",
    "\n",
    "#evaluation(Accuracy)\n",
    "print(\"Accuracy:\",metrics.accuracy_score(prediction,y_test))\n",
    "\n",
    "#evaluation(Confusion Metrix)\n",
    "print(classification_report(y_test,prediction))"
   ]
  },
  {
   "cell_type": "markdown",
   "metadata": {},
   "source": [
    "# Neural network"
   ]
  },
  {
   "cell_type": "code",
   "execution_count": 177,
   "metadata": {},
   "outputs": [
    {
     "name": "stdout",
     "output_type": "stream",
     "text": [
      "Epoch 1/50\n",
      "53453/53453 [==============================] - 1s 14us/step - loss: 0.6917 - accuracy: 0.5289\n",
      "Epoch 2/50\n",
      "53453/53453 [==============================] - 0s 4us/step - loss: 0.6765 - accuracy: 0.7419\n",
      "Epoch 3/50\n",
      "53453/53453 [==============================] - 0s 4us/step - loss: 0.6242 - accuracy: 0.8357: 0s - loss: 0.6418 - accuracy: \n",
      "Epoch 4/50\n",
      "53453/53453 [==============================] - 0s 4us/step - loss: 0.5506 - accuracy: 0.8396\n",
      "Epoch 5/50\n",
      "53453/53453 [==============================] - 0s 4us/step - loss: 0.4964 - accuracy: 0.8519\n",
      "Epoch 6/50\n",
      "53453/53453 [==============================] - 0s 4us/step - loss: 0.4635 - accuracy: 0.8610\n",
      "Epoch 7/50\n",
      "53453/53453 [==============================] - 0s 4us/step - loss: 0.4423 - accuracy: 0.8683\n",
      "Epoch 8/50\n",
      "53453/53453 [==============================] - 0s 4us/step - loss: 0.4273 - accuracy: 0.8710\n",
      "Epoch 9/50\n",
      "53453/53453 [==============================] - 0s 4us/step - loss: 0.4158 - accuracy: 0.8720\n",
      "Epoch 10/50\n",
      "53453/53453 [==============================] - 0s 4us/step - loss: 0.4066 - accuracy: 0.8728\n",
      "Epoch 11/50\n",
      "53453/53453 [==============================] - 0s 4us/step - loss: 0.3991 - accuracy: 0.8731\n",
      "Epoch 12/50\n",
      "53453/53453 [==============================] - 0s 4us/step - loss: 0.3925 - accuracy: 0.8732\n",
      "Epoch 13/50\n",
      "53453/53453 [==============================] - 0s 4us/step - loss: 0.3867 - accuracy: 0.8723\n",
      "Epoch 14/50\n",
      "53453/53453 [==============================] - 0s 4us/step - loss: 0.3815 - accuracy: 0.8727\n",
      "Epoch 15/50\n",
      "53453/53453 [==============================] - 0s 4us/step - loss: 0.3766 - accuracy: 0.8726\n",
      "Epoch 16/50\n",
      "53453/53453 [==============================] - 0s 4us/step - loss: 0.3723 - accuracy: 0.8729\n",
      "Epoch 17/50\n",
      "53453/53453 [==============================] - 0s 4us/step - loss: 0.3683 - accuracy: 0.8730\n",
      "Epoch 18/50\n",
      "53453/53453 [==============================] - 0s 4us/step - loss: 0.3644 - accuracy: 0.8727\n",
      "Epoch 19/50\n",
      "53453/53453 [==============================] - 0s 4us/step - loss: 0.3610 - accuracy: 0.8726\n",
      "Epoch 20/50\n",
      "53453/53453 [==============================] - 0s 4us/step - loss: 0.3576 - accuracy: 0.8727\n",
      "Epoch 21/50\n",
      "53453/53453 [==============================] - 0s 4us/step - loss: 0.3545 - accuracy: 0.8732\n",
      "Epoch 22/50\n",
      "53453/53453 [==============================] - 0s 4us/step - loss: 0.3516 - accuracy: 0.8731\n",
      "Epoch 23/50\n",
      "53453/53453 [==============================] - 0s 4us/step - loss: 0.3488 - accuracy: 0.8731\n",
      "Epoch 24/50\n",
      "53453/53453 [==============================] - 0s 4us/step - loss: 0.3463 - accuracy: 0.8729\n",
      "Epoch 25/50\n",
      "53453/53453 [==============================] - 0s 4us/step - loss: 0.3438 - accuracy: 0.8736\n",
      "Epoch 26/50\n",
      "53453/53453 [==============================] - 0s 4us/step - loss: 0.3414 - accuracy: 0.8733\n",
      "Epoch 27/50\n",
      "53453/53453 [==============================] - 0s 4us/step - loss: 0.3392 - accuracy: 0.8731\n",
      "Epoch 28/50\n",
      "53453/53453 [==============================] - 0s 4us/step - loss: 0.3372 - accuracy: 0.8732\n",
      "Epoch 29/50\n",
      "53453/53453 [==============================] - 0s 4us/step - loss: 0.3351 - accuracy: 0.8735\n",
      "Epoch 30/50\n",
      "53453/53453 [==============================] - 0s 4us/step - loss: 0.3333 - accuracy: 0.8733\n",
      "Epoch 31/50\n",
      "53453/53453 [==============================] - 0s 4us/step - loss: 0.3315 - accuracy: 0.8731\n",
      "Epoch 32/50\n",
      "53453/53453 [==============================] - 0s 4us/step - loss: 0.3298 - accuracy: 0.8734\n",
      "Epoch 33/50\n",
      "53453/53453 [==============================] - 0s 4us/step - loss: 0.3282 - accuracy: 0.8731\n",
      "Epoch 34/50\n",
      "53453/53453 [==============================] - 0s 4us/step - loss: 0.3267 - accuracy: 0.8734\n",
      "Epoch 35/50\n",
      "53453/53453 [==============================] - 0s 4us/step - loss: 0.3251 - accuracy: 0.8735\n",
      "Epoch 36/50\n",
      "53453/53453 [==============================] - 0s 4us/step - loss: 0.3238 - accuracy: 0.8733\n",
      "Epoch 37/50\n",
      "53453/53453 [==============================] - 0s 4us/step - loss: 0.3224 - accuracy: 0.8738\n",
      "Epoch 38/50\n",
      "53453/53453 [==============================] - 0s 4us/step - loss: 0.3211 - accuracy: 0.8738\n",
      "Epoch 39/50\n",
      "53453/53453 [==============================] - 0s 4us/step - loss: 0.3199 - accuracy: 0.8731\n",
      "Epoch 40/50\n",
      "53453/53453 [==============================] - 0s 4us/step - loss: 0.3188 - accuracy: 0.8736\n",
      "Epoch 41/50\n",
      "53453/53453 [==============================] - 0s 4us/step - loss: 0.3176 - accuracy: 0.8731\n",
      "Epoch 42/50\n",
      "53453/53453 [==============================] - 0s 4us/step - loss: 0.3166 - accuracy: 0.8732\n",
      "Epoch 43/50\n",
      "53453/53453 [==============================] - 0s 4us/step - loss: 0.3155 - accuracy: 0.8738\n",
      "Epoch 44/50\n",
      "53453/53453 [==============================] - 0s 4us/step - loss: 0.3145 - accuracy: 0.8736\n",
      "Epoch 45/50\n",
      "53453/53453 [==============================] - 0s 4us/step - loss: 0.3135 - accuracy: 0.8735\n",
      "Epoch 46/50\n",
      "53453/53453 [==============================] - 0s 4us/step - loss: 0.3125 - accuracy: 0.8735\n",
      "Epoch 47/50\n",
      "53453/53453 [==============================] - 0s 4us/step - loss: 0.3116 - accuracy: 0.8737\n",
      "Epoch 48/50\n",
      "53453/53453 [==============================] - 0s 4us/step - loss: 0.3105 - accuracy: 0.8738\n",
      "Epoch 49/50\n",
      "53453/53453 [==============================] - 0s 4us/step - loss: 0.3097 - accuracy: 0.8742\n",
      "Epoch 50/50\n",
      "53453/53453 [==============================] - 0s 4us/step - loss: 0.3086 - accuracy: 0.8735\n",
      "Accuracy: 0.872044298114337\n",
      "              precision    recall  f1-score   support\n",
      "\n",
      "           0       0.86      0.87      0.87      6362\n",
      "           1       0.88      0.87      0.88      7002\n",
      "\n",
      "    accuracy                           0.87     13364\n",
      "   macro avg       0.87      0.87      0.87     13364\n",
      "weighted avg       0.87      0.87      0.87     13364\n",
      "\n"
     ]
    }
   ],
   "source": [
    "# ANN classification with dafault parameters\n",
    "# Importing the Keras libraries and packages\n",
    "import keras\n",
    "from keras.models import Sequential\n",
    "from keras.layers import Dense\n",
    "\n",
    "X_train, X_test, y_train, y_test = train_test_split(X, y, test_size=0.2, random_state=101)\n",
    "\n",
    "# Initialising the ANN\n",
    "classifier = Sequential()\n",
    "\n",
    "# Adding the input layer and the first hidden layer\n",
    "classifier.add(Dense(units = 5, kernel_initializer = 'uniform', activation = 'relu', input_dim = 10))\n",
    "\n",
    "# Adding the second hidden layer\n",
    "classifier.add(Dense(units = 3, kernel_initializer = 'uniform', activation = 'relu'))\n",
    "\n",
    "# Adding the output layer\n",
    "classifier.add(Dense(units = 1, kernel_initializer = 'uniform', activation = 'sigmoid'))\n",
    "\n",
    "# Compiling the ANN\n",
    "classifier.compile(optimizer = 'adam', loss = 'binary_crossentropy', metrics = ['accuracy'])\n",
    "\n",
    "# Fitting the ANN to the Training set\n",
    "classifier.fit(X_train, y_train,batch_size=1000, epochs = 50)\n",
    "\n",
    "# prediction using model\n",
    "\n",
    "predictions = classifier.predict(X_test)\n",
    "\n",
    "# Predicting the Test set results\n",
    "y_pred = classifier.predict(X_test)\n",
    "y_pred = y_pred >0.5\n",
    "y_pred = np.where(y_pred, '1', '0')\n",
    "\n",
    "#evaluation(Accuracy)\n",
    "print(\"Accuracy:\",metrics.accuracy_score(y_test,y_pred))\n",
    "\n",
    "#evaluation\n",
    "from sklearn.metrics import classification_report\n",
    "print(classification_report(y_test,y_pred))"
   ]
  },
  {
   "cell_type": "code",
   "execution_count": 179,
   "metadata": {},
   "outputs": [
    {
     "name": "stdout",
     "output_type": "stream",
     "text": [
      "Epoch 1/100\n",
      "42762/42762 [==============================] - 1s 13us/step - loss: 0.6908 - accuracy: 0.5372\n",
      "Epoch 2/100\n",
      "42762/42762 [==============================] - 0s 3us/step - loss: 0.6797 - accuracy: 0.5538\n",
      "Epoch 3/100\n",
      "42762/42762 [==============================] - 0s 3us/step - loss: 0.6546 - accuracy: 0.7180\n",
      "Epoch 4/100\n",
      "42762/42762 [==============================] - 0s 3us/step - loss: 0.6179 - accuracy: 0.8055\n",
      "Epoch 5/100\n",
      "42762/42762 [==============================] - 0s 3us/step - loss: 0.5750 - accuracy: 0.8264\n",
      "Epoch 6/100\n",
      "42762/42762 [==============================] - 0s 3us/step - loss: 0.5313 - accuracy: 0.8337\n",
      "Epoch 7/100\n",
      "42762/42762 [==============================] - 0s 3us/step - loss: 0.4907 - accuracy: 0.8403\n",
      "Epoch 8/100\n",
      "42762/42762 [==============================] - 0s 3us/step - loss: 0.4548 - accuracy: 0.8459\n",
      "Epoch 9/100\n",
      "42762/42762 [==============================] - 0s 3us/step - loss: 0.4244 - accuracy: 0.8505\n",
      "Epoch 10/100\n",
      "42762/42762 [==============================] - 0s 3us/step - loss: 0.3989 - accuracy: 0.8546\n",
      "Epoch 11/100\n",
      "42762/42762 [==============================] - 0s 3us/step - loss: 0.3777 - accuracy: 0.8590\n",
      "Epoch 12/100\n",
      "42762/42762 [==============================] - 0s 3us/step - loss: 0.3603 - accuracy: 0.8630\n",
      "Epoch 13/100\n",
      "42762/42762 [==============================] - 0s 3us/step - loss: 0.3459 - accuracy: 0.8649\n",
      "Epoch 14/100\n",
      "42762/42762 [==============================] - 0s 3us/step - loss: 0.3342 - accuracy: 0.8675\n",
      "Epoch 15/100\n",
      "42762/42762 [==============================] - 0s 3us/step - loss: 0.3248 - accuracy: 0.8696\n",
      "Epoch 16/100\n",
      "42762/42762 [==============================] - 0s 3us/step - loss: 0.3172 - accuracy: 0.8708\n",
      "Epoch 17/100\n",
      "42762/42762 [==============================] - 0s 3us/step - loss: 0.3111 - accuracy: 0.8711\n",
      "Epoch 18/100\n",
      "42762/42762 [==============================] - 0s 3us/step - loss: 0.3063 - accuracy: 0.8725\n",
      "Epoch 19/100\n",
      "42762/42762 [==============================] - 0s 3us/step - loss: 0.3025 - accuracy: 0.8726\n",
      "Epoch 20/100\n",
      "42762/42762 [==============================] - 0s 3us/step - loss: 0.2994 - accuracy: 0.8732\n",
      "Epoch 21/100\n",
      "42762/42762 [==============================] - 0s 3us/step - loss: 0.2970 - accuracy: 0.8735\n",
      "Epoch 22/100\n",
      "42762/42762 [==============================] - 0s 3us/step - loss: 0.2951 - accuracy: 0.8739\n",
      "Epoch 23/100\n",
      "42762/42762 [==============================] - 0s 3us/step - loss: 0.2936 - accuracy: 0.8741\n",
      "Epoch 24/100\n",
      "42762/42762 [==============================] - 0s 3us/step - loss: 0.2923 - accuracy: 0.8744\n",
      "Epoch 25/100\n",
      "42762/42762 [==============================] - 0s 3us/step - loss: 0.2913 - accuracy: 0.8740\n",
      "Epoch 26/100\n",
      "42762/42762 [==============================] - 0s 3us/step - loss: 0.2905 - accuracy: 0.8740\n",
      "Epoch 27/100\n",
      "42762/42762 [==============================] - 0s 3us/step - loss: 0.2899 - accuracy: 0.8739\n",
      "Epoch 28/100\n",
      "42762/42762 [==============================] - 0s 3us/step - loss: 0.2893 - accuracy: 0.8743\n",
      "Epoch 29/100\n",
      "42762/42762 [==============================] - 0s 3us/step - loss: 0.2888 - accuracy: 0.8743\n",
      "Epoch 30/100\n",
      "42762/42762 [==============================] - 0s 3us/step - loss: 0.2884 - accuracy: 0.8741\n",
      "Epoch 31/100\n",
      "42762/42762 [==============================] - 0s 3us/step - loss: 0.2880 - accuracy: 0.8742\n",
      "Epoch 32/100\n",
      "42762/42762 [==============================] - 0s 3us/step - loss: 0.2877 - accuracy: 0.8742\n",
      "Epoch 33/100\n",
      "42762/42762 [==============================] - 0s 3us/step - loss: 0.2874 - accuracy: 0.8741\n",
      "Epoch 34/100\n",
      "42762/42762 [==============================] - 0s 3us/step - loss: 0.2871 - accuracy: 0.8744\n",
      "Epoch 35/100\n",
      "42762/42762 [==============================] - 0s 3us/step - loss: 0.2869 - accuracy: 0.8744\n",
      "Epoch 36/100\n",
      "42762/42762 [==============================] - 0s 3us/step - loss: 0.2865 - accuracy: 0.8744\n",
      "Epoch 37/100\n",
      "42762/42762 [==============================] - 0s 3us/step - loss: 0.2862 - accuracy: 0.8741\n",
      "Epoch 38/100\n",
      "42762/42762 [==============================] - 0s 3us/step - loss: 0.2860 - accuracy: 0.8746\n",
      "Epoch 39/100\n",
      "42762/42762 [==============================] - 0s 3us/step - loss: 0.2857 - accuracy: 0.8744\n",
      "Epoch 40/100\n",
      "42762/42762 [==============================] - 0s 3us/step - loss: 0.2854 - accuracy: 0.8744\n",
      "Epoch 41/100\n",
      "42762/42762 [==============================] - 0s 3us/step - loss: 0.2850 - accuracy: 0.8744\n",
      "Epoch 42/100\n",
      "42762/42762 [==============================] - 0s 3us/step - loss: 0.2847 - accuracy: 0.8744\n",
      "Epoch 43/100\n",
      "42762/42762 [==============================] - 0s 3us/step - loss: 0.2844 - accuracy: 0.8743\n",
      "Epoch 44/100\n",
      "42762/42762 [==============================] - 0s 3us/step - loss: 0.2841 - accuracy: 0.8743\n",
      "Epoch 45/100\n",
      "42762/42762 [==============================] - 0s 3us/step - loss: 0.2838 - accuracy: 0.8743\n",
      "Epoch 46/100\n",
      "42762/42762 [==============================] - 0s 3us/step - loss: 0.2834 - accuracy: 0.8742\n",
      "Epoch 47/100\n",
      "42762/42762 [==============================] - 0s 3us/step - loss: 0.2831 - accuracy: 0.8745\n",
      "Epoch 48/100\n",
      "42762/42762 [==============================] - 0s 3us/step - loss: 0.2828 - accuracy: 0.8744\n",
      "Epoch 49/100\n",
      "42762/42762 [==============================] - 0s 3us/step - loss: 0.2825 - accuracy: 0.8742\n",
      "Epoch 50/100\n",
      "42762/42762 [==============================] - 0s 3us/step - loss: 0.2821 - accuracy: 0.8743\n",
      "Epoch 51/100\n",
      "42762/42762 [==============================] - 0s 3us/step - loss: 0.2819 - accuracy: 0.8745\n",
      "Epoch 52/100\n",
      "42762/42762 [==============================] - 0s 3us/step - loss: 0.2816 - accuracy: 0.8744\n",
      "Epoch 53/100\n",
      "42762/42762 [==============================] - 0s 3us/step - loss: 0.2813 - accuracy: 0.8745\n",
      "Epoch 54/100\n",
      "42762/42762 [==============================] - 0s 3us/step - loss: 0.2810 - accuracy: 0.8742\n",
      "Epoch 55/100\n",
      "42762/42762 [==============================] - 0s 3us/step - loss: 0.2808 - accuracy: 0.8745\n",
      "Epoch 56/100\n",
      "42762/42762 [==============================] - 0s 3us/step - loss: 0.2805 - accuracy: 0.8743\n",
      "Epoch 57/100\n",
      "42762/42762 [==============================] - 0s 3us/step - loss: 0.2803 - accuracy: 0.8741\n",
      "Epoch 58/100\n",
      "42762/42762 [==============================] - 0s 3us/step - loss: 0.2800 - accuracy: 0.8743\n",
      "Epoch 59/100\n",
      "42762/42762 [==============================] - 0s 3us/step - loss: 0.2798 - accuracy: 0.8740\n",
      "Epoch 60/100\n",
      "42762/42762 [==============================] - 0s 3us/step - loss: 0.2796 - accuracy: 0.8743\n",
      "Epoch 61/100\n",
      "42762/42762 [==============================] - 0s 3us/step - loss: 0.2795 - accuracy: 0.8736\n",
      "Epoch 62/100\n",
      "42762/42762 [==============================] - 0s 3us/step - loss: 0.2792 - accuracy: 0.8734\n",
      "Epoch 63/100\n",
      "42762/42762 [==============================] - 0s 3us/step - loss: 0.2790 - accuracy: 0.8737\n",
      "Epoch 64/100\n",
      "42762/42762 [==============================] - 0s 3us/step - loss: 0.2789 - accuracy: 0.8738\n",
      "Epoch 65/100\n",
      "42762/42762 [==============================] - 0s 3us/step - loss: 0.2787 - accuracy: 0.8741\n",
      "Epoch 66/100\n",
      "42762/42762 [==============================] - 0s 3us/step - loss: 0.2786 - accuracy: 0.8739\n",
      "Epoch 67/100\n",
      "42762/42762 [==============================] - 0s 3us/step - loss: 0.2784 - accuracy: 0.8740\n",
      "Epoch 68/100\n",
      "42762/42762 [==============================] - 0s 3us/step - loss: 0.2782 - accuracy: 0.8742\n",
      "Epoch 69/100\n",
      "42762/42762 [==============================] - 0s 3us/step - loss: 0.2781 - accuracy: 0.8743\n",
      "Epoch 70/100\n",
      "42762/42762 [==============================] - 0s 3us/step - loss: 0.2780 - accuracy: 0.8743\n",
      "Epoch 71/100\n",
      "42762/42762 [==============================] - 0s 3us/step - loss: 0.2779 - accuracy: 0.8745\n",
      "Epoch 72/100\n",
      "42762/42762 [==============================] - 0s 3us/step - loss: 0.2778 - accuracy: 0.8744\n",
      "Epoch 73/100\n",
      "42762/42762 [==============================] - 0s 3us/step - loss: 0.2777 - accuracy: 0.8746\n",
      "Epoch 74/100\n",
      "42762/42762 [==============================] - 0s 3us/step - loss: 0.2775 - accuracy: 0.8747\n",
      "Epoch 75/100\n",
      "42762/42762 [==============================] - 0s 3us/step - loss: 0.2774 - accuracy: 0.8746\n",
      "Epoch 76/100\n",
      "42762/42762 [==============================] - 0s 3us/step - loss: 0.2773 - accuracy: 0.8746\n",
      "Epoch 77/100\n",
      "42762/42762 [==============================] - 0s 3us/step - loss: 0.2772 - accuracy: 0.8747\n",
      "Epoch 78/100\n",
      "42762/42762 [==============================] - 0s 3us/step - loss: 0.2771 - accuracy: 0.8744\n",
      "Epoch 79/100\n",
      "42762/42762 [==============================] - 0s 3us/step - loss: 0.2771 - accuracy: 0.8747\n",
      "Epoch 80/100\n",
      "42762/42762 [==============================] - 0s 3us/step - loss: 0.2769 - accuracy: 0.8744\n",
      "Epoch 81/100\n",
      "42762/42762 [==============================] - 0s 3us/step - loss: 0.2769 - accuracy: 0.8745\n",
      "Epoch 82/100\n",
      "42762/42762 [==============================] - 0s 3us/step - loss: 0.2768 - accuracy: 0.8747\n",
      "Epoch 83/100\n",
      "42762/42762 [==============================] - 0s 3us/step - loss: 0.2766 - accuracy: 0.8748\n",
      "Epoch 84/100\n",
      "42762/42762 [==============================] - 0s 3us/step - loss: 0.2766 - accuracy: 0.8749\n",
      "Epoch 85/100\n",
      "42762/42762 [==============================] - 0s 3us/step - loss: 0.2765 - accuracy: 0.8747\n",
      "Epoch 86/100\n",
      "42762/42762 [==============================] - 0s 3us/step - loss: 0.2764 - accuracy: 0.8748\n",
      "Epoch 87/100\n",
      "42762/42762 [==============================] - 0s 3us/step - loss: 0.2763 - accuracy: 0.8750\n",
      "Epoch 88/100\n",
      "42762/42762 [==============================] - 0s 3us/step - loss: 0.2762 - accuracy: 0.8750\n",
      "Epoch 89/100\n",
      "42762/42762 [==============================] - 0s 3us/step - loss: 0.2762 - accuracy: 0.8751\n",
      "Epoch 90/100\n",
      "42762/42762 [==============================] - 0s 3us/step - loss: 0.2761 - accuracy: 0.8751\n",
      "Epoch 91/100\n",
      "42762/42762 [==============================] - 0s 3us/step - loss: 0.2760 - accuracy: 0.8751\n",
      "Epoch 92/100\n",
      "42762/42762 [==============================] - 0s 3us/step - loss: 0.2759 - accuracy: 0.8749\n",
      "Epoch 93/100\n",
      "42762/42762 [==============================] - 0s 3us/step - loss: 0.2758 - accuracy: 0.8749\n",
      "Epoch 94/100\n",
      "42762/42762 [==============================] - 0s 3us/step - loss: 0.2757 - accuracy: 0.8750\n",
      "Epoch 95/100\n",
      "42762/42762 [==============================] - 0s 3us/step - loss: 0.2756 - accuracy: 0.8751\n",
      "Epoch 96/100\n",
      "42762/42762 [==============================] - 0s 3us/step - loss: 0.2756 - accuracy: 0.8750\n",
      "Epoch 97/100\n",
      "42762/42762 [==============================] - 0s 3us/step - loss: 0.2754 - accuracy: 0.8752\n",
      "Epoch 98/100\n",
      "42762/42762 [==============================] - 0s 3us/step - loss: 0.2754 - accuracy: 0.8753\n",
      "Epoch 99/100\n",
      "42762/42762 [==============================] - 0s 3us/step - loss: 0.2752 - accuracy: 0.8754\n",
      "Epoch 100/100\n",
      "42762/42762 [==============================] - 0s 3us/step - loss: 0.2751 - accuracy: 0.8755\n",
      "Epoch 1/100\n",
      "42762/42762 [==============================] - 1s 13us/step - loss: 0.6910 - accuracy: 0.5346\n",
      "Epoch 2/100\n",
      "42762/42762 [==============================] - 0s 3us/step - loss: 0.6807 - accuracy: 0.6427\n",
      "Epoch 3/100\n",
      "42762/42762 [==============================] - 0s 3us/step - loss: 0.6562 - accuracy: 0.7901\n",
      "Epoch 4/100\n",
      "42762/42762 [==============================] - 0s 3us/step - loss: 0.6198 - accuracy: 0.8199\n",
      "Epoch 5/100\n",
      "42762/42762 [==============================] - 0s 3us/step - loss: 0.5768 - accuracy: 0.8280\n",
      "Epoch 6/100\n",
      "42762/42762 [==============================] - 0s 3us/step - loss: 0.5326 - accuracy: 0.8342\n",
      "Epoch 7/100\n",
      "42762/42762 [==============================] - 0s 3us/step - loss: 0.4911 - accuracy: 0.8406\n",
      "Epoch 8/100\n",
      "42762/42762 [==============================] - 0s 3us/step - loss: 0.4548 - accuracy: 0.8465\n",
      "Epoch 9/100\n",
      "42762/42762 [==============================] - 0s 3us/step - loss: 0.4240 - accuracy: 0.8517\n",
      "Epoch 10/100\n",
      "42762/42762 [==============================] - 0s 3us/step - loss: 0.3984 - accuracy: 0.8559\n",
      "Epoch 11/100\n",
      "42762/42762 [==============================] - 0s 3us/step - loss: 0.3772 - accuracy: 0.8597\n",
      "Epoch 12/100\n",
      "42762/42762 [==============================] - 0s 3us/step - loss: 0.3598 - accuracy: 0.8638\n",
      "Epoch 13/100\n",
      "42762/42762 [==============================] - 0s 3us/step - loss: 0.3455 - accuracy: 0.8667\n",
      "Epoch 14/100\n",
      "42762/42762 [==============================] - 0s 3us/step - loss: 0.3337 - accuracy: 0.8681\n",
      "Epoch 15/100\n",
      "42762/42762 [==============================] - 0s 3us/step - loss: 0.3243 - accuracy: 0.8693\n",
      "Epoch 16/100\n",
      "42762/42762 [==============================] - 0s 3us/step - loss: 0.3166 - accuracy: 0.8706\n",
      "Epoch 17/100\n",
      "42762/42762 [==============================] - 0s 3us/step - loss: 0.3103 - accuracy: 0.8712\n",
      "Epoch 18/100\n",
      "42762/42762 [==============================] - 0s 3us/step - loss: 0.3053 - accuracy: 0.8722\n",
      "Epoch 19/100\n",
      "42762/42762 [==============================] - 0s 3us/step - loss: 0.3012 - accuracy: 0.8731\n",
      "Epoch 20/100\n",
      "42762/42762 [==============================] - 0s 3us/step - loss: 0.2980 - accuracy: 0.8730\n",
      "Epoch 21/100\n",
      "42762/42762 [==============================] - 0s 3us/step - loss: 0.2954 - accuracy: 0.8729\n",
      "Epoch 22/100\n",
      "42762/42762 [==============================] - 0s 3us/step - loss: 0.2933 - accuracy: 0.8730\n",
      "Epoch 23/100\n",
      "42762/42762 [==============================] - 0s 3us/step - loss: 0.2915 - accuracy: 0.8731\n",
      "Epoch 24/100\n",
      "42762/42762 [==============================] - 0s 3us/step - loss: 0.2902 - accuracy: 0.8734\n",
      "Epoch 25/100\n",
      "42762/42762 [==============================] - 0s 3us/step - loss: 0.2890 - accuracy: 0.8736\n",
      "Epoch 26/100\n",
      "42762/42762 [==============================] - 0s 3us/step - loss: 0.2880 - accuracy: 0.8735\n",
      "Epoch 27/100\n",
      "42762/42762 [==============================] - 0s 3us/step - loss: 0.2872 - accuracy: 0.8737\n",
      "Epoch 28/100\n",
      "42762/42762 [==============================] - 0s 3us/step - loss: 0.2865 - accuracy: 0.8738\n",
      "Epoch 29/100\n",
      "42762/42762 [==============================] - 0s 3us/step - loss: 0.2859 - accuracy: 0.8738\n",
      "Epoch 30/100\n",
      "42762/42762 [==============================] - 0s 3us/step - loss: 0.2853 - accuracy: 0.8737\n",
      "Epoch 31/100\n",
      "42762/42762 [==============================] - 0s 3us/step - loss: 0.2849 - accuracy: 0.8735\n",
      "Epoch 32/100\n",
      "42762/42762 [==============================] - 0s 3us/step - loss: 0.2844 - accuracy: 0.8731\n",
      "Epoch 33/100\n",
      "42762/42762 [==============================] - 0s 3us/step - loss: 0.2840 - accuracy: 0.8736\n",
      "Epoch 34/100\n",
      "42762/42762 [==============================] - 0s 3us/step - loss: 0.2836 - accuracy: 0.8739\n",
      "Epoch 35/100\n",
      "42762/42762 [==============================] - 0s 3us/step - loss: 0.2832 - accuracy: 0.8731\n",
      "Epoch 36/100\n",
      "42762/42762 [==============================] - 0s 3us/step - loss: 0.2829 - accuracy: 0.8732\n",
      "Epoch 37/100\n",
      "42762/42762 [==============================] - 0s 3us/step - loss: 0.2825 - accuracy: 0.8732\n",
      "Epoch 38/100\n",
      "42762/42762 [==============================] - 0s 3us/step - loss: 0.2823 - accuracy: 0.8729\n",
      "Epoch 39/100\n",
      "42762/42762 [==============================] - 0s 3us/step - loss: 0.2820 - accuracy: 0.8732\n",
      "Epoch 40/100\n",
      "42762/42762 [==============================] - 0s 3us/step - loss: 0.2816 - accuracy: 0.8729\n",
      "Epoch 41/100\n",
      "42762/42762 [==============================] - 0s 3us/step - loss: 0.2813 - accuracy: 0.8730\n",
      "Epoch 42/100\n",
      "42762/42762 [==============================] - 0s 3us/step - loss: 0.2810 - accuracy: 0.8728\n",
      "Epoch 43/100\n",
      "42762/42762 [==============================] - 0s 3us/step - loss: 0.2806 - accuracy: 0.8729\n",
      "Epoch 44/100\n",
      "42762/42762 [==============================] - 0s 3us/step - loss: 0.2803 - accuracy: 0.8731\n",
      "Epoch 45/100\n",
      "42762/42762 [==============================] - 0s 3us/step - loss: 0.2799 - accuracy: 0.8734\n",
      "Epoch 46/100\n",
      "42762/42762 [==============================] - 0s 3us/step - loss: 0.2796 - accuracy: 0.8730\n",
      "Epoch 47/100\n",
      "42762/42762 [==============================] - 0s 3us/step - loss: 0.2792 - accuracy: 0.8736\n",
      "Epoch 48/100\n",
      "42762/42762 [==============================] - 0s 3us/step - loss: 0.2788 - accuracy: 0.8735\n",
      "Epoch 49/100\n",
      "42762/42762 [==============================] - 0s 3us/step - loss: 0.2785 - accuracy: 0.8736\n",
      "Epoch 50/100\n",
      "42762/42762 [==============================] - 0s 3us/step - loss: 0.2781 - accuracy: 0.8741\n",
      "Epoch 51/100\n",
      "42762/42762 [==============================] - 0s 3us/step - loss: 0.2776 - accuracy: 0.8740\n",
      "Epoch 52/100\n",
      "42762/42762 [==============================] - 0s 3us/step - loss: 0.2773 - accuracy: 0.8742\n",
      "Epoch 53/100\n",
      "42762/42762 [==============================] - 0s 3us/step - loss: 0.2769 - accuracy: 0.8746\n",
      "Epoch 54/100\n",
      "42762/42762 [==============================] - 0s 3us/step - loss: 0.2765 - accuracy: 0.8747\n",
      "Epoch 55/100\n"
     ]
    },
    {
     "name": "stdout",
     "output_type": "stream",
     "text": [
      "42762/42762 [==============================] - 0s 3us/step - loss: 0.2761 - accuracy: 0.8751\n",
      "Epoch 56/100\n",
      "42762/42762 [==============================] - 0s 3us/step - loss: 0.2757 - accuracy: 0.8753\n",
      "Epoch 57/100\n",
      "42762/42762 [==============================] - 0s 3us/step - loss: 0.2753 - accuracy: 0.8750\n",
      "Epoch 58/100\n",
      "42762/42762 [==============================] - 0s 3us/step - loss: 0.2750 - accuracy: 0.8756\n",
      "Epoch 59/100\n",
      "42762/42762 [==============================] - 0s 3us/step - loss: 0.2746 - accuracy: 0.8757\n",
      "Epoch 60/100\n",
      "42762/42762 [==============================] - 0s 3us/step - loss: 0.2742 - accuracy: 0.8759\n",
      "Epoch 61/100\n",
      "42762/42762 [==============================] - 0s 3us/step - loss: 0.2738 - accuracy: 0.8763\n",
      "Epoch 62/100\n",
      "42762/42762 [==============================] - 0s 3us/step - loss: 0.2734 - accuracy: 0.8766\n",
      "Epoch 63/100\n",
      "42762/42762 [==============================] - 0s 3us/step - loss: 0.2730 - accuracy: 0.8767\n",
      "Epoch 64/100\n",
      "42762/42762 [==============================] - 0s 3us/step - loss: 0.2726 - accuracy: 0.8771\n",
      "Epoch 65/100\n",
      "42762/42762 [==============================] - 0s 3us/step - loss: 0.2722 - accuracy: 0.8771\n",
      "Epoch 66/100\n",
      "42762/42762 [==============================] - 0s 3us/step - loss: 0.2719 - accuracy: 0.8771\n",
      "Epoch 67/100\n",
      "42762/42762 [==============================] - 0s 3us/step - loss: 0.2715 - accuracy: 0.8774\n",
      "Epoch 68/100\n",
      "42762/42762 [==============================] - 0s 3us/step - loss: 0.2711 - accuracy: 0.8775\n",
      "Epoch 69/100\n",
      "42762/42762 [==============================] - 0s 3us/step - loss: 0.2709 - accuracy: 0.8776\n",
      "Epoch 70/100\n",
      "42762/42762 [==============================] - 0s 3us/step - loss: 0.2705 - accuracy: 0.8781\n",
      "Epoch 71/100\n",
      "42762/42762 [==============================] - 0s 3us/step - loss: 0.2703 - accuracy: 0.8785\n",
      "Epoch 72/100\n",
      "42762/42762 [==============================] - 0s 3us/step - loss: 0.2700 - accuracy: 0.8783\n",
      "Epoch 73/100\n",
      "42762/42762 [==============================] - 0s 3us/step - loss: 0.2697 - accuracy: 0.8788\n",
      "Epoch 74/100\n",
      "42762/42762 [==============================] - 0s 3us/step - loss: 0.2695 - accuracy: 0.8789\n",
      "Epoch 75/100\n",
      "42762/42762 [==============================] - 0s 3us/step - loss: 0.2692 - accuracy: 0.8788\n",
      "Epoch 76/100\n",
      "42762/42762 [==============================] - 0s 3us/step - loss: 0.2690 - accuracy: 0.8788\n",
      "Epoch 77/100\n",
      "42762/42762 [==============================] - 0s 3us/step - loss: 0.2688 - accuracy: 0.8791\n",
      "Epoch 78/100\n",
      "42762/42762 [==============================] - 0s 3us/step - loss: 0.2686 - accuracy: 0.8794\n",
      "Epoch 79/100\n",
      "42762/42762 [==============================] - 0s 3us/step - loss: 0.2684 - accuracy: 0.8791\n",
      "Epoch 80/100\n",
      "42762/42762 [==============================] - 0s 3us/step - loss: 0.2682 - accuracy: 0.8794\n",
      "Epoch 81/100\n",
      "42762/42762 [==============================] - 0s 3us/step - loss: 0.2681 - accuracy: 0.8795\n",
      "Epoch 82/100\n",
      "42762/42762 [==============================] - 0s 3us/step - loss: 0.2679 - accuracy: 0.8794\n",
      "Epoch 83/100\n",
      "42762/42762 [==============================] - 0s 3us/step - loss: 0.2678 - accuracy: 0.8794\n",
      "Epoch 84/100\n",
      "42762/42762 [==============================] - 0s 3us/step - loss: 0.2676 - accuracy: 0.8797\n",
      "Epoch 85/100\n",
      "42762/42762 [==============================] - 0s 3us/step - loss: 0.2675 - accuracy: 0.8798\n",
      "Epoch 86/100\n",
      "42762/42762 [==============================] - 0s 3us/step - loss: 0.2673 - accuracy: 0.8800\n",
      "Epoch 87/100\n",
      "42762/42762 [==============================] - 0s 3us/step - loss: 0.2672 - accuracy: 0.8799\n",
      "Epoch 88/100\n",
      "42762/42762 [==============================] - 0s 3us/step - loss: 0.2671 - accuracy: 0.8801\n",
      "Epoch 89/100\n",
      "42762/42762 [==============================] - 0s 3us/step - loss: 0.2670 - accuracy: 0.8800\n",
      "Epoch 90/100\n",
      "42762/42762 [==============================] - 0s 3us/step - loss: 0.2669 - accuracy: 0.8802\n",
      "Epoch 91/100\n",
      "42762/42762 [==============================] - 0s 3us/step - loss: 0.2668 - accuracy: 0.8802\n",
      "Epoch 92/100\n",
      "42762/42762 [==============================] - 0s 3us/step - loss: 0.2667 - accuracy: 0.8806\n",
      "Epoch 93/100\n",
      "42762/42762 [==============================] - 0s 3us/step - loss: 0.2666 - accuracy: 0.8806\n",
      "Epoch 94/100\n",
      "42762/42762 [==============================] - 0s 3us/step - loss: 0.2666 - accuracy: 0.8804\n",
      "Epoch 95/100\n",
      "42762/42762 [==============================] - 0s 3us/step - loss: 0.2665 - accuracy: 0.8806\n",
      "Epoch 96/100\n",
      "42762/42762 [==============================] - 0s 3us/step - loss: 0.2664 - accuracy: 0.8803\n",
      "Epoch 97/100\n",
      "42762/42762 [==============================] - 0s 3us/step - loss: 0.2663 - accuracy: 0.8805\n",
      "Epoch 98/100\n",
      "42762/42762 [==============================] - 0s 3us/step - loss: 0.2662 - accuracy: 0.8805\n",
      "Epoch 99/100\n",
      "42762/42762 [==============================] - 0s 3us/step - loss: 0.2662 - accuracy: 0.8806\n",
      "Epoch 100/100\n",
      "42762/42762 [==============================] - 0s 3us/step - loss: 0.2662 - accuracy: 0.8806\n",
      "Epoch 1/100\n",
      "42762/42762 [==============================] - 1s 13us/step - loss: 0.6920 - accuracy: 0.5214\n",
      "Epoch 2/100\n",
      "42762/42762 [==============================] - 0s 3us/step - loss: 0.6847 - accuracy: 0.5318\n",
      "Epoch 3/100\n",
      "42762/42762 [==============================] - 0s 3us/step - loss: 0.6634 - accuracy: 0.6333\n",
      "Epoch 4/100\n",
      "42762/42762 [==============================] - 0s 3us/step - loss: 0.6270 - accuracy: 0.7769\n",
      "Epoch 5/100\n",
      "42762/42762 [==============================] - 0s 3us/step - loss: 0.5826 - accuracy: 0.8175\n",
      "Epoch 6/100\n",
      "42762/42762 [==============================] - 0s 3us/step - loss: 0.5367 - accuracy: 0.8319\n",
      "Epoch 7/100\n",
      "42762/42762 [==============================] - 0s 3us/step - loss: 0.4941 - accuracy: 0.8387\n",
      "Epoch 8/100\n",
      "42762/42762 [==============================] - 0s 3us/step - loss: 0.4567 - accuracy: 0.8452\n",
      "Epoch 9/100\n",
      "42762/42762 [==============================] - 0s 3us/step - loss: 0.4253 - accuracy: 0.8505\n",
      "Epoch 10/100\n",
      "42762/42762 [==============================] - 0s 3us/step - loss: 0.3992 - accuracy: 0.8552\n",
      "Epoch 11/100\n",
      "42762/42762 [==============================] - 0s 3us/step - loss: 0.3775 - accuracy: 0.8595\n",
      "Epoch 12/100\n",
      "42762/42762 [==============================] - 0s 3us/step - loss: 0.3598 - accuracy: 0.8630\n",
      "Epoch 13/100\n",
      "42762/42762 [==============================] - 0s 3us/step - loss: 0.3453 - accuracy: 0.8659\n",
      "Epoch 14/100\n",
      "42762/42762 [==============================] - 0s 3us/step - loss: 0.3334 - accuracy: 0.8685\n",
      "Epoch 15/100\n",
      "42762/42762 [==============================] - 0s 3us/step - loss: 0.3239 - accuracy: 0.8700\n",
      "Epoch 16/100\n",
      "42762/42762 [==============================] - 0s 3us/step - loss: 0.3163 - accuracy: 0.8716\n",
      "Epoch 17/100\n",
      "42762/42762 [==============================] - 0s 3us/step - loss: 0.3102 - accuracy: 0.8720\n",
      "Epoch 18/100\n",
      "42762/42762 [==============================] - 0s 3us/step - loss: 0.3054 - accuracy: 0.8731\n",
      "Epoch 19/100\n",
      "42762/42762 [==============================] - 0s 3us/step - loss: 0.3016 - accuracy: 0.8731\n",
      "Epoch 20/100\n",
      "42762/42762 [==============================] - 0s 3us/step - loss: 0.2986 - accuracy: 0.8734\n",
      "Epoch 21/100\n",
      "42762/42762 [==============================] - 0s 3us/step - loss: 0.2962 - accuracy: 0.8737\n",
      "Epoch 22/100\n",
      "42762/42762 [==============================] - 0s 3us/step - loss: 0.2943 - accuracy: 0.8744\n",
      "Epoch 23/100\n",
      "42762/42762 [==============================] - 0s 3us/step - loss: 0.2928 - accuracy: 0.8747\n",
      "Epoch 24/100\n",
      "42762/42762 [==============================] - 0s 3us/step - loss: 0.2916 - accuracy: 0.8743\n",
      "Epoch 25/100\n",
      "42762/42762 [==============================] - 0s 3us/step - loss: 0.2906 - accuracy: 0.8746\n",
      "Epoch 26/100\n",
      "42762/42762 [==============================] - 0s 3us/step - loss: 0.2898 - accuracy: 0.8747\n",
      "Epoch 27/100\n",
      "42762/42762 [==============================] - 0s 3us/step - loss: 0.2891 - accuracy: 0.8746\n",
      "Epoch 28/100\n",
      "42762/42762 [==============================] - 0s 3us/step - loss: 0.2886 - accuracy: 0.8744\n",
      "Epoch 29/100\n",
      "42762/42762 [==============================] - 0s 3us/step - loss: 0.2882 - accuracy: 0.8747\n",
      "Epoch 30/100\n",
      "42762/42762 [==============================] - 0s 3us/step - loss: 0.2877 - accuracy: 0.8745\n",
      "Epoch 31/100\n",
      "42762/42762 [==============================] - 0s 3us/step - loss: 0.2874 - accuracy: 0.8747\n",
      "Epoch 32/100\n",
      "42762/42762 [==============================] - 0s 3us/step - loss: 0.2871 - accuracy: 0.8745\n",
      "Epoch 33/100\n",
      "42762/42762 [==============================] - 0s 3us/step - loss: 0.2868 - accuracy: 0.8746\n",
      "Epoch 34/100\n",
      "42762/42762 [==============================] - 0s 3us/step - loss: 0.2865 - accuracy: 0.8747\n",
      "Epoch 35/100\n",
      "42762/42762 [==============================] - 0s 3us/step - loss: 0.2862 - accuracy: 0.8748\n",
      "Epoch 36/100\n",
      "42762/42762 [==============================] - 0s 3us/step - loss: 0.2860 - accuracy: 0.8746\n",
      "Epoch 37/100\n",
      "42762/42762 [==============================] - 0s 3us/step - loss: 0.2856 - accuracy: 0.8749\n",
      "Epoch 38/100\n",
      "42762/42762 [==============================] - 0s 3us/step - loss: 0.2853 - accuracy: 0.8747\n",
      "Epoch 39/100\n",
      "42762/42762 [==============================] - 0s 3us/step - loss: 0.2850 - accuracy: 0.8745\n",
      "Epoch 40/100\n",
      "42762/42762 [==============================] - 0s 3us/step - loss: 0.2848 - accuracy: 0.8746\n",
      "Epoch 41/100\n",
      "42762/42762 [==============================] - 0s 3us/step - loss: 0.2845 - accuracy: 0.8745\n",
      "Epoch 42/100\n",
      "42762/42762 [==============================] - 0s 3us/step - loss: 0.2841 - accuracy: 0.8745\n",
      "Epoch 43/100\n",
      "42762/42762 [==============================] - 0s 3us/step - loss: 0.2838 - accuracy: 0.8744\n",
      "Epoch 44/100\n",
      "42762/42762 [==============================] - 0s 3us/step - loss: 0.2835 - accuracy: 0.8746\n",
      "Epoch 45/100\n",
      "42762/42762 [==============================] - 0s 3us/step - loss: 0.2832 - accuracy: 0.8744\n",
      "Epoch 46/100\n",
      "42762/42762 [==============================] - 0s 3us/step - loss: 0.2829 - accuracy: 0.8743\n",
      "Epoch 47/100\n",
      "42762/42762 [==============================] - 0s 3us/step - loss: 0.2826 - accuracy: 0.8742\n",
      "Epoch 48/100\n",
      "42762/42762 [==============================] - 0s 3us/step - loss: 0.2822 - accuracy: 0.8744\n",
      "Epoch 49/100\n",
      "42762/42762 [==============================] - 0s 3us/step - loss: 0.2819 - accuracy: 0.8742\n",
      "Epoch 50/100\n",
      "42762/42762 [==============================] - 0s 3us/step - loss: 0.2816 - accuracy: 0.8739\n",
      "Epoch 51/100\n",
      "42762/42762 [==============================] - 0s 3us/step - loss: 0.2813 - accuracy: 0.8745\n",
      "Epoch 52/100\n",
      "42762/42762 [==============================] - 0s 3us/step - loss: 0.2811 - accuracy: 0.8744\n",
      "Epoch 53/100\n",
      "42762/42762 [==============================] - 0s 3us/step - loss: 0.2808 - accuracy: 0.8743\n",
      "Epoch 54/100\n",
      "42762/42762 [==============================] - 0s 3us/step - loss: 0.2805 - accuracy: 0.8746\n",
      "Epoch 55/100\n",
      "42762/42762 [==============================] - 0s 3us/step - loss: 0.2802 - accuracy: 0.8746\n",
      "Epoch 56/100\n",
      "42762/42762 [==============================] - 0s 3us/step - loss: 0.2799 - accuracy: 0.8746\n",
      "Epoch 57/100\n",
      "42762/42762 [==============================] - 0s 3us/step - loss: 0.2796 - accuracy: 0.8745\n",
      "Epoch 58/100\n",
      "42762/42762 [==============================] - 0s 3us/step - loss: 0.2794 - accuracy: 0.8745\n",
      "Epoch 59/100\n",
      "42762/42762 [==============================] - 0s 3us/step - loss: 0.2791 - accuracy: 0.8749\n",
      "Epoch 60/100\n",
      "42762/42762 [==============================] - 0s 3us/step - loss: 0.2789 - accuracy: 0.8749\n",
      "Epoch 61/100\n",
      "42762/42762 [==============================] - 0s 3us/step - loss: 0.2787 - accuracy: 0.8748\n",
      "Epoch 62/100\n",
      "42762/42762 [==============================] - 0s 3us/step - loss: 0.2784 - accuracy: 0.8747\n",
      "Epoch 63/100\n",
      "42762/42762 [==============================] - 0s 3us/step - loss: 0.2782 - accuracy: 0.8748\n",
      "Epoch 64/100\n",
      "42762/42762 [==============================] - 0s 3us/step - loss: 0.2780 - accuracy: 0.8747\n",
      "Epoch 65/100\n",
      "42762/42762 [==============================] - 0s 3us/step - loss: 0.2778 - accuracy: 0.8748\n",
      "Epoch 66/100\n",
      "42762/42762 [==============================] - 0s 3us/step - loss: 0.2775 - accuracy: 0.8751\n",
      "Epoch 67/100\n",
      "42762/42762 [==============================] - 0s 3us/step - loss: 0.2773 - accuracy: 0.8751\n",
      "Epoch 68/100\n",
      "42762/42762 [==============================] - 0s 3us/step - loss: 0.2771 - accuracy: 0.8750\n",
      "Epoch 69/100\n",
      "42762/42762 [==============================] - 0s 3us/step - loss: 0.2768 - accuracy: 0.8754\n",
      "Epoch 70/100\n",
      "42762/42762 [==============================] - 0s 3us/step - loss: 0.2766 - accuracy: 0.8751\n",
      "Epoch 71/100\n",
      "42762/42762 [==============================] - 0s 3us/step - loss: 0.2763 - accuracy: 0.8754\n",
      "Epoch 72/100\n",
      "42762/42762 [==============================] - 0s 3us/step - loss: 0.2761 - accuracy: 0.8754\n",
      "Epoch 73/100\n",
      "42762/42762 [==============================] - 0s 3us/step - loss: 0.2758 - accuracy: 0.8758\n",
      "Epoch 74/100\n",
      "42762/42762 [==============================] - 0s 3us/step - loss: 0.2756 - accuracy: 0.8755\n",
      "Epoch 75/100\n",
      "42762/42762 [==============================] - 0s 3us/step - loss: 0.2753 - accuracy: 0.8755\n",
      "Epoch 76/100\n",
      "42762/42762 [==============================] - 0s 3us/step - loss: 0.2751 - accuracy: 0.8758\n",
      "Epoch 77/100\n",
      "42762/42762 [==============================] - 0s 3us/step - loss: 0.2748 - accuracy: 0.8758\n",
      "Epoch 78/100\n",
      "42762/42762 [==============================] - 0s 3us/step - loss: 0.2746 - accuracy: 0.8763\n",
      "Epoch 79/100\n",
      "42762/42762 [==============================] - 0s 3us/step - loss: 0.2743 - accuracy: 0.8766\n",
      "Epoch 80/100\n",
      "42762/42762 [==============================] - 0s 3us/step - loss: 0.2740 - accuracy: 0.8768\n",
      "Epoch 81/100\n",
      "42762/42762 [==============================] - 0s 3us/step - loss: 0.2738 - accuracy: 0.8771\n",
      "Epoch 82/100\n",
      "42762/42762 [==============================] - 0s 3us/step - loss: 0.2736 - accuracy: 0.8771\n",
      "Epoch 83/100\n",
      "42762/42762 [==============================] - 0s 3us/step - loss: 0.2733 - accuracy: 0.8770\n",
      "Epoch 84/100\n",
      "42762/42762 [==============================] - 0s 3us/step - loss: 0.2730 - accuracy: 0.8771\n",
      "Epoch 85/100\n",
      "42762/42762 [==============================] - 0s 3us/step - loss: 0.2727 - accuracy: 0.8771\n",
      "Epoch 86/100\n",
      "42762/42762 [==============================] - 0s 3us/step - loss: 0.2725 - accuracy: 0.8771\n",
      "Epoch 87/100\n",
      "42762/42762 [==============================] - 0s 3us/step - loss: 0.2722 - accuracy: 0.8766\n",
      "Epoch 88/100\n",
      "42762/42762 [==============================] - 0s 3us/step - loss: 0.2720 - accuracy: 0.8769\n",
      "Epoch 89/100\n",
      "42762/42762 [==============================] - 0s 3us/step - loss: 0.2717 - accuracy: 0.8772\n",
      "Epoch 90/100\n",
      "42762/42762 [==============================] - 0s 3us/step - loss: 0.2714 - accuracy: 0.8775\n",
      "Epoch 91/100\n",
      "42762/42762 [==============================] - 0s 3us/step - loss: 0.2712 - accuracy: 0.8775\n",
      "Epoch 92/100\n",
      "42762/42762 [==============================] - 0s 3us/step - loss: 0.2710 - accuracy: 0.8779\n",
      "Epoch 93/100\n",
      "42762/42762 [==============================] - 0s 3us/step - loss: 0.2708 - accuracy: 0.8778\n",
      "Epoch 94/100\n",
      "42762/42762 [==============================] - 0s 3us/step - loss: 0.2706 - accuracy: 0.8782\n",
      "Epoch 95/100\n",
      "42762/42762 [==============================] - 0s 3us/step - loss: 0.2704 - accuracy: 0.8780\n",
      "Epoch 96/100\n",
      "42762/42762 [==============================] - 0s 3us/step - loss: 0.2702 - accuracy: 0.8780\n",
      "Epoch 97/100\n",
      "42762/42762 [==============================] - 0s 3us/step - loss: 0.2700 - accuracy: 0.8779\n",
      "Epoch 98/100\n",
      "42762/42762 [==============================] - 0s 3us/step - loss: 0.2698 - accuracy: 0.8781\n",
      "Epoch 99/100\n",
      "42762/42762 [==============================] - 0s 3us/step - loss: 0.2697 - accuracy: 0.8778\n",
      "Epoch 100/100\n",
      "42762/42762 [==============================] - 0s 3us/step - loss: 0.2695 - accuracy: 0.8778\n",
      "Epoch 1/100\n",
      "42763/42763 [==============================] - 1s 13us/step - loss: 0.6916 - accuracy: 0.5203\n",
      "Epoch 2/100\n",
      "42763/42763 [==============================] - 0s 3us/step - loss: 0.6819 - accuracy: 0.5457\n",
      "Epoch 3/100\n",
      "42763/42763 [==============================] - 0s 3us/step - loss: 0.6583 - accuracy: 0.7065\n",
      "Epoch 4/100\n",
      "42763/42763 [==============================] - 0s 3us/step - loss: 0.6215 - accuracy: 0.8044\n",
      "Epoch 5/100\n",
      "42763/42763 [==============================] - 0s 3us/step - loss: 0.5778 - accuracy: 0.8259\n",
      "Epoch 6/100\n",
      "42763/42763 [==============================] - 0s 3us/step - loss: 0.5329 - accuracy: 0.8367\n",
      "Epoch 7/100\n",
      "42763/42763 [==============================] - 0s 3us/step - loss: 0.4909 - accuracy: 0.8422\n",
      "Epoch 8/100\n",
      "42763/42763 [==============================] - 0s 3us/step - loss: 0.4542 - accuracy: 0.8486\n",
      "Epoch 9/100\n"
     ]
    },
    {
     "name": "stdout",
     "output_type": "stream",
     "text": [
      "42763/42763 [==============================] - 0s 3us/step - loss: 0.4233 - accuracy: 0.8524\n",
      "Epoch 10/100\n",
      "42763/42763 [==============================] - 0s 3us/step - loss: 0.3977 - accuracy: 0.8561\n",
      "Epoch 11/100\n",
      "42763/42763 [==============================] - 0s 3us/step - loss: 0.3767 - accuracy: 0.8593\n",
      "Epoch 12/100\n",
      "42763/42763 [==============================] - 0s 3us/step - loss: 0.3594 - accuracy: 0.8627\n",
      "Epoch 13/100\n",
      "42763/42763 [==============================] - 0s 3us/step - loss: 0.3453 - accuracy: 0.8656\n",
      "Epoch 14/100\n",
      "42763/42763 [==============================] - 0s 3us/step - loss: 0.3339 - accuracy: 0.8671\n",
      "Epoch 15/100\n",
      "42763/42763 [==============================] - 0s 3us/step - loss: 0.3248 - accuracy: 0.8688\n",
      "Epoch 16/100\n",
      "42763/42763 [==============================] - 0s 3us/step - loss: 0.3174 - accuracy: 0.8696\n",
      "Epoch 17/100\n",
      "42763/42763 [==============================] - 0s 3us/step - loss: 0.3115 - accuracy: 0.8699\n",
      "Epoch 18/100\n",
      "42763/42763 [==============================] - 0s 3us/step - loss: 0.3069 - accuracy: 0.8707\n",
      "Epoch 19/100\n",
      "42763/42763 [==============================] - 0s 3us/step - loss: 0.3032 - accuracy: 0.8709\n",
      "Epoch 20/100\n",
      "42763/42763 [==============================] - 0s 3us/step - loss: 0.3003 - accuracy: 0.8713\n",
      "Epoch 21/100\n",
      "42763/42763 [==============================] - 0s 3us/step - loss: 0.2980 - accuracy: 0.8718\n",
      "Epoch 22/100\n",
      "42763/42763 [==============================] - 0s 3us/step - loss: 0.2962 - accuracy: 0.8719\n",
      "Epoch 23/100\n",
      "42763/42763 [==============================] - 0s 3us/step - loss: 0.2947 - accuracy: 0.8723\n",
      "Epoch 24/100\n",
      "42763/42763 [==============================] - 0s 3us/step - loss: 0.2936 - accuracy: 0.8722\n",
      "Epoch 25/100\n",
      "42763/42763 [==============================] - 0s 3us/step - loss: 0.2927 - accuracy: 0.8718\n",
      "Epoch 26/100\n",
      "42763/42763 [==============================] - 0s 3us/step - loss: 0.2919 - accuracy: 0.8719\n",
      "Epoch 27/100\n",
      "42763/42763 [==============================] - 0s 3us/step - loss: 0.2913 - accuracy: 0.8722\n",
      "Epoch 28/100\n",
      "42763/42763 [==============================] - 0s 3us/step - loss: 0.2907 - accuracy: 0.8719\n",
      "Epoch 29/100\n",
      "42763/42763 [==============================] - 0s 3us/step - loss: 0.2903 - accuracy: 0.8722\n",
      "Epoch 30/100\n",
      "42763/42763 [==============================] - 0s 3us/step - loss: 0.2899 - accuracy: 0.8725\n",
      "Epoch 31/100\n",
      "42763/42763 [==============================] - 0s 3us/step - loss: 0.2895 - accuracy: 0.8722\n",
      "Epoch 32/100\n",
      "42763/42763 [==============================] - 0s 3us/step - loss: 0.2892 - accuracy: 0.8720\n",
      "Epoch 33/100\n",
      "42763/42763 [==============================] - 0s 3us/step - loss: 0.2890 - accuracy: 0.8723\n",
      "Epoch 34/100\n",
      "42763/42763 [==============================] - 0s 3us/step - loss: 0.2886 - accuracy: 0.8720\n",
      "Epoch 35/100\n",
      "42763/42763 [==============================] - 0s 3us/step - loss: 0.2884 - accuracy: 0.8723\n",
      "Epoch 36/100\n",
      "42763/42763 [==============================] - 0s 3us/step - loss: 0.2881 - accuracy: 0.8722\n",
      "Epoch 37/100\n",
      "42763/42763 [==============================] - 0s 3us/step - loss: 0.2878 - accuracy: 0.8722\n",
      "Epoch 38/100\n",
      "42763/42763 [==============================] - 0s 3us/step - loss: 0.2875 - accuracy: 0.8722\n",
      "Epoch 39/100\n",
      "42763/42763 [==============================] - 0s 3us/step - loss: 0.2872 - accuracy: 0.8726\n",
      "Epoch 40/100\n",
      "42763/42763 [==============================] - 0s 3us/step - loss: 0.2869 - accuracy: 0.8724\n",
      "Epoch 41/100\n",
      "42763/42763 [==============================] - 0s 3us/step - loss: 0.2866 - accuracy: 0.8724\n",
      "Epoch 42/100\n",
      "42763/42763 [==============================] - 0s 3us/step - loss: 0.2862 - accuracy: 0.8719\n",
      "Epoch 43/100\n",
      "42763/42763 [==============================] - 0s 3us/step - loss: 0.2859 - accuracy: 0.8721\n",
      "Epoch 44/100\n",
      "42763/42763 [==============================] - 0s 3us/step - loss: 0.2856 - accuracy: 0.8719\n",
      "Epoch 45/100\n",
      "42763/42763 [==============================] - 0s 3us/step - loss: 0.2853 - accuracy: 0.8724\n",
      "Epoch 46/100\n",
      "42763/42763 [==============================] - 0s 3us/step - loss: 0.2849 - accuracy: 0.8722\n",
      "Epoch 47/100\n",
      "42763/42763 [==============================] - 0s 3us/step - loss: 0.2846 - accuracy: 0.8720\n",
      "Epoch 48/100\n",
      "42763/42763 [==============================] - 0s 3us/step - loss: 0.2844 - accuracy: 0.8721\n",
      "Epoch 49/100\n",
      "42763/42763 [==============================] - 0s 3us/step - loss: 0.2841 - accuracy: 0.8719\n",
      "Epoch 50/100\n",
      "42763/42763 [==============================] - 0s 3us/step - loss: 0.2838 - accuracy: 0.8724\n",
      "Epoch 51/100\n",
      "42763/42763 [==============================] - 0s 3us/step - loss: 0.2835 - accuracy: 0.8722\n",
      "Epoch 52/100\n",
      "42763/42763 [==============================] - 0s 3us/step - loss: 0.2833 - accuracy: 0.8722\n",
      "Epoch 53/100\n",
      "42763/42763 [==============================] - 0s 3us/step - loss: 0.2830 - accuracy: 0.8723\n",
      "Epoch 54/100\n",
      "42763/42763 [==============================] - 0s 3us/step - loss: 0.2828 - accuracy: 0.8725\n",
      "Epoch 55/100\n",
      "42763/42763 [==============================] - 0s 3us/step - loss: 0.2826 - accuracy: 0.8727\n",
      "Epoch 56/100\n",
      "42763/42763 [==============================] - 0s 3us/step - loss: 0.2823 - accuracy: 0.8727\n",
      "Epoch 57/100\n",
      "42763/42763 [==============================] - 0s 3us/step - loss: 0.2821 - accuracy: 0.8727\n",
      "Epoch 58/100\n",
      "42763/42763 [==============================] - 0s 3us/step - loss: 0.2819 - accuracy: 0.8725\n",
      "Epoch 59/100\n",
      "42763/42763 [==============================] - 0s 3us/step - loss: 0.2817 - accuracy: 0.8723\n",
      "Epoch 60/100\n",
      "42763/42763 [==============================] - 0s 3us/step - loss: 0.2815 - accuracy: 0.8727\n",
      "Epoch 61/100\n",
      "42763/42763 [==============================] - 0s 3us/step - loss: 0.2812 - accuracy: 0.8725\n",
      "Epoch 62/100\n",
      "42763/42763 [==============================] - 0s 3us/step - loss: 0.2810 - accuracy: 0.8730\n",
      "Epoch 63/100\n",
      "42763/42763 [==============================] - 0s 3us/step - loss: 0.2808 - accuracy: 0.8728\n",
      "Epoch 64/100\n",
      "42763/42763 [==============================] - 0s 3us/step - loss: 0.2806 - accuracy: 0.8730\n",
      "Epoch 65/100\n",
      "42763/42763 [==============================] - 0s 3us/step - loss: 0.2804 - accuracy: 0.8732\n",
      "Epoch 66/100\n",
      "42763/42763 [==============================] - 0s 3us/step - loss: 0.2802 - accuracy: 0.8734\n",
      "Epoch 67/100\n",
      "42763/42763 [==============================] - 0s 3us/step - loss: 0.2799 - accuracy: 0.8732\n",
      "Epoch 68/100\n",
      "42763/42763 [==============================] - 0s 3us/step - loss: 0.2797 - accuracy: 0.8736\n",
      "Epoch 69/100\n",
      "42763/42763 [==============================] - 0s 3us/step - loss: 0.2795 - accuracy: 0.8734\n",
      "Epoch 70/100\n",
      "42763/42763 [==============================] - 0s 3us/step - loss: 0.2793 - accuracy: 0.8736\n",
      "Epoch 71/100\n",
      "42763/42763 [==============================] - 0s 3us/step - loss: 0.2791 - accuracy: 0.8736\n",
      "Epoch 72/100\n",
      "42763/42763 [==============================] - 0s 3us/step - loss: 0.2788 - accuracy: 0.8732\n",
      "Epoch 73/100\n",
      "42763/42763 [==============================] - 0s 3us/step - loss: 0.2786 - accuracy: 0.8736\n",
      "Epoch 74/100\n",
      "42763/42763 [==============================] - 0s 3us/step - loss: 0.2784 - accuracy: 0.8736\n",
      "Epoch 75/100\n",
      "42763/42763 [==============================] - 0s 3us/step - loss: 0.2780 - accuracy: 0.8735\n",
      "Epoch 76/100\n",
      "42763/42763 [==============================] - 0s 3us/step - loss: 0.2777 - accuracy: 0.8741\n",
      "Epoch 77/100\n",
      "42763/42763 [==============================] - 0s 3us/step - loss: 0.2774 - accuracy: 0.8741\n",
      "Epoch 78/100\n",
      "42763/42763 [==============================] - 0s 3us/step - loss: 0.2771 - accuracy: 0.8740\n",
      "Epoch 79/100\n",
      "42763/42763 [==============================] - 0s 3us/step - loss: 0.2767 - accuracy: 0.8750\n",
      "Epoch 80/100\n",
      "42763/42763 [==============================] - 0s 3us/step - loss: 0.2764 - accuracy: 0.8747\n",
      "Epoch 81/100\n",
      "42763/42763 [==============================] - 0s 3us/step - loss: 0.2760 - accuracy: 0.8747\n",
      "Epoch 82/100\n",
      "42763/42763 [==============================] - 0s 3us/step - loss: 0.2757 - accuracy: 0.8752\n",
      "Epoch 83/100\n",
      "42763/42763 [==============================] - 0s 3us/step - loss: 0.2753 - accuracy: 0.8751\n",
      "Epoch 84/100\n",
      "42763/42763 [==============================] - 0s 3us/step - loss: 0.2750 - accuracy: 0.8751\n",
      "Epoch 85/100\n",
      "42763/42763 [==============================] - 0s 3us/step - loss: 0.2746 - accuracy: 0.8751\n",
      "Epoch 86/100\n",
      "42763/42763 [==============================] - 0s 3us/step - loss: 0.2742 - accuracy: 0.8755\n",
      "Epoch 87/100\n",
      "42763/42763 [==============================] - 0s 3us/step - loss: 0.2739 - accuracy: 0.8755\n",
      "Epoch 88/100\n",
      "42763/42763 [==============================] - 0s 3us/step - loss: 0.2735 - accuracy: 0.8758\n",
      "Epoch 89/100\n",
      "42763/42763 [==============================] - 0s 3us/step - loss: 0.2732 - accuracy: 0.8759\n",
      "Epoch 90/100\n",
      "42763/42763 [==============================] - 0s 3us/step - loss: 0.2730 - accuracy: 0.8761\n",
      "Epoch 91/100\n",
      "42763/42763 [==============================] - 0s 3us/step - loss: 0.2727 - accuracy: 0.8759\n",
      "Epoch 92/100\n",
      "42763/42763 [==============================] - 0s 3us/step - loss: 0.2723 - accuracy: 0.8761\n",
      "Epoch 93/100\n",
      "42763/42763 [==============================] - 0s 3us/step - loss: 0.2721 - accuracy: 0.8759\n",
      "Epoch 94/100\n",
      "42763/42763 [==============================] - 0s 3us/step - loss: 0.2718 - accuracy: 0.8759\n",
      "Epoch 95/100\n",
      "42763/42763 [==============================] - 0s 3us/step - loss: 0.2716 - accuracy: 0.8762\n",
      "Epoch 96/100\n",
      "42763/42763 [==============================] - 0s 3us/step - loss: 0.2714 - accuracy: 0.8765\n",
      "Epoch 97/100\n",
      "42763/42763 [==============================] - 0s 3us/step - loss: 0.2712 - accuracy: 0.8765\n",
      "Epoch 98/100\n",
      "42763/42763 [==============================] - 0s 3us/step - loss: 0.2709 - accuracy: 0.8763\n",
      "Epoch 99/100\n",
      "42763/42763 [==============================] - 0s 3us/step - loss: 0.2707 - accuracy: 0.8762\n",
      "Epoch 100/100\n",
      "42763/42763 [==============================] - 0s 3us/step - loss: 0.2706 - accuracy: 0.8762\n",
      "Epoch 1/100\n",
      "42763/42763 [==============================] - 1s 14us/step - loss: 0.6914 - accuracy: 0.5259\n",
      "Epoch 2/100\n",
      "42763/42763 [==============================] - 0s 3us/step - loss: 0.6806 - accuracy: 0.6427\n",
      "Epoch 3/100\n",
      "42763/42763 [==============================] - 0s 3us/step - loss: 0.6558 - accuracy: 0.7931\n",
      "Epoch 4/100\n",
      "42763/42763 [==============================] - 0s 3us/step - loss: 0.6192 - accuracy: 0.8207\n",
      "Epoch 5/100\n",
      "42763/42763 [==============================] - 0s 3us/step - loss: 0.5760 - accuracy: 0.8292\n",
      "Epoch 6/100\n",
      "42763/42763 [==============================] - 0s 3us/step - loss: 0.5317 - accuracy: 0.8362\n",
      "Epoch 7/100\n",
      "42763/42763 [==============================] - 0s 3us/step - loss: 0.4902 - accuracy: 0.8422\n",
      "Epoch 8/100\n",
      "42763/42763 [==============================] - 0s 3us/step - loss: 0.4537 - accuracy: 0.8475\n",
      "Epoch 9/100\n",
      "42763/42763 [==============================] - 0s 3us/step - loss: 0.4228 - accuracy: 0.8530\n",
      "Epoch 10/100\n",
      "42763/42763 [==============================] - 0s 3us/step - loss: 0.3972 - accuracy: 0.8570\n",
      "Epoch 11/100\n",
      "42763/42763 [==============================] - 0s 3us/step - loss: 0.3760 - accuracy: 0.8614\n",
      "Epoch 12/100\n",
      "42763/42763 [==============================] - 0s 3us/step - loss: 0.3586 - accuracy: 0.8644\n",
      "Epoch 13/100\n",
      "42763/42763 [==============================] - 0s 3us/step - loss: 0.3444 - accuracy: 0.8674\n",
      "Epoch 14/100\n",
      "42763/42763 [==============================] - 0s 3us/step - loss: 0.3327 - accuracy: 0.8690\n",
      "Epoch 15/100\n",
      "42763/42763 [==============================] - 0s 3us/step - loss: 0.3232 - accuracy: 0.8701\n",
      "Epoch 16/100\n",
      "42763/42763 [==============================] - 0s 3us/step - loss: 0.3155 - accuracy: 0.8716\n",
      "Epoch 17/100\n",
      "42763/42763 [==============================] - 0s 3us/step - loss: 0.3093 - accuracy: 0.8723\n",
      "Epoch 18/100\n",
      "42763/42763 [==============================] - 0s 3us/step - loss: 0.3042 - accuracy: 0.8732\n",
      "Epoch 19/100\n",
      "42763/42763 [==============================] - 0s 3us/step - loss: 0.3003 - accuracy: 0.8738\n",
      "Epoch 20/100\n",
      "42763/42763 [==============================] - 0s 3us/step - loss: 0.2970 - accuracy: 0.8737\n",
      "Epoch 21/100\n",
      "42763/42763 [==============================] - 0s 3us/step - loss: 0.2943 - accuracy: 0.8742\n",
      "Epoch 22/100\n",
      "42763/42763 [==============================] - 0s 3us/step - loss: 0.2921 - accuracy: 0.8741\n",
      "Epoch 23/100\n",
      "42763/42763 [==============================] - 0s 3us/step - loss: 0.2904 - accuracy: 0.8742\n",
      "Epoch 24/100\n",
      "42763/42763 [==============================] - 0s 3us/step - loss: 0.2889 - accuracy: 0.8747\n",
      "Epoch 25/100\n",
      "42763/42763 [==============================] - 0s 3us/step - loss: 0.2877 - accuracy: 0.8744\n",
      "Epoch 26/100\n",
      "42763/42763 [==============================] - 0s 3us/step - loss: 0.2868 - accuracy: 0.8744\n",
      "Epoch 27/100\n",
      "42763/42763 [==============================] - 0s 3us/step - loss: 0.2858 - accuracy: 0.8745\n",
      "Epoch 28/100\n",
      "42763/42763 [==============================] - 0s 3us/step - loss: 0.2851 - accuracy: 0.8744\n",
      "Epoch 29/100\n",
      "42763/42763 [==============================] - 0s 3us/step - loss: 0.2845 - accuracy: 0.8744\n",
      "Epoch 30/100\n",
      "42763/42763 [==============================] - 0s 3us/step - loss: 0.2840 - accuracy: 0.8740\n",
      "Epoch 31/100\n",
      "42763/42763 [==============================] - 0s 3us/step - loss: 0.2834 - accuracy: 0.8745\n",
      "Epoch 32/100\n",
      "42763/42763 [==============================] - 0s 3us/step - loss: 0.2829 - accuracy: 0.8745\n",
      "Epoch 33/100\n",
      "42763/42763 [==============================] - 0s 3us/step - loss: 0.2826 - accuracy: 0.8745\n",
      "Epoch 34/100\n",
      "42763/42763 [==============================] - 0s 3us/step - loss: 0.2822 - accuracy: 0.8742\n",
      "Epoch 35/100\n",
      "42763/42763 [==============================] - 0s 3us/step - loss: 0.2818 - accuracy: 0.8744\n",
      "Epoch 36/100\n",
      "42763/42763 [==============================] - 0s 3us/step - loss: 0.2815 - accuracy: 0.8744\n",
      "Epoch 37/100\n",
      "42763/42763 [==============================] - 0s 3us/step - loss: 0.2812 - accuracy: 0.8744\n",
      "Epoch 38/100\n",
      "42763/42763 [==============================] - 0s 3us/step - loss: 0.2809 - accuracy: 0.8742\n",
      "Epoch 39/100\n",
      "42763/42763 [==============================] - 0s 3us/step - loss: 0.2807 - accuracy: 0.8741\n",
      "Epoch 40/100\n",
      "42763/42763 [==============================] - 0s 3us/step - loss: 0.2804 - accuracy: 0.8741\n",
      "Epoch 41/100\n",
      "42763/42763 [==============================] - 0s 3us/step - loss: 0.2802 - accuracy: 0.8743\n",
      "Epoch 42/100\n",
      "42763/42763 [==============================] - 0s 3us/step - loss: 0.2800 - accuracy: 0.8741\n",
      "Epoch 43/100\n",
      "42763/42763 [==============================] - 0s 3us/step - loss: 0.2798 - accuracy: 0.8739\n",
      "Epoch 44/100\n",
      "42763/42763 [==============================] - 0s 3us/step - loss: 0.2796 - accuracy: 0.8738\n",
      "Epoch 45/100\n",
      "42763/42763 [==============================] - 0s 3us/step - loss: 0.2794 - accuracy: 0.8741\n",
      "Epoch 46/100\n",
      "42763/42763 [==============================] - 0s 3us/step - loss: 0.2793 - accuracy: 0.8742\n",
      "Epoch 47/100\n",
      "42763/42763 [==============================] - 0s 3us/step - loss: 0.2791 - accuracy: 0.8741\n",
      "Epoch 48/100\n",
      "42763/42763 [==============================] - 0s 3us/step - loss: 0.2788 - accuracy: 0.8742\n",
      "Epoch 49/100\n",
      "42763/42763 [==============================] - 0s 3us/step - loss: 0.2787 - accuracy: 0.8743\n",
      "Epoch 50/100\n",
      "42763/42763 [==============================] - 0s 3us/step - loss: 0.2785 - accuracy: 0.8740\n",
      "Epoch 51/100\n",
      "42763/42763 [==============================] - ETA: 0s - loss: 0.2781 - accuracy: 0.87 - 0s 3us/step - loss: 0.2783 - accuracy: 0.8742\n",
      "Epoch 52/100\n",
      "42763/42763 [==============================] - 0s 3us/step - loss: 0.2780 - accuracy: 0.8743\n",
      "Epoch 53/100\n",
      "42763/42763 [==============================] - 0s 3us/step - loss: 0.2778 - accuracy: 0.8749\n",
      "Epoch 54/100\n",
      "42763/42763 [==============================] - 0s 3us/step - loss: 0.2775 - accuracy: 0.8745\n",
      "Epoch 55/100\n",
      "42763/42763 [==============================] - 0s 3us/step - loss: 0.2773 - accuracy: 0.8746\n",
      "Epoch 56/100\n",
      "42763/42763 [==============================] - 0s 3us/step - loss: 0.2769 - accuracy: 0.8747\n",
      "Epoch 57/100\n",
      "42763/42763 [==============================] - 0s 3us/step - loss: 0.2766 - accuracy: 0.8749\n",
      "Epoch 58/100\n",
      "42763/42763 [==============================] - 0s 3us/step - loss: 0.2763 - accuracy: 0.8751\n",
      "Epoch 59/100\n",
      "42763/42763 [==============================] - 0s 3us/step - loss: 0.2759 - accuracy: 0.8751\n",
      "Epoch 60/100\n",
      "42763/42763 [==============================] - 0s 3us/step - loss: 0.2756 - accuracy: 0.8753\n",
      "Epoch 61/100\n",
      "42763/42763 [==============================] - 0s 3us/step - loss: 0.2752 - accuracy: 0.8758\n",
      "Epoch 62/100\n",
      "42763/42763 [==============================] - 0s 3us/step - loss: 0.2748 - accuracy: 0.8757\n",
      "Epoch 63/100\n"
     ]
    },
    {
     "name": "stdout",
     "output_type": "stream",
     "text": [
      "42763/42763 [==============================] - 0s 3us/step - loss: 0.2745 - accuracy: 0.8757\n",
      "Epoch 64/100\n",
      "42763/42763 [==============================] - 0s 3us/step - loss: 0.2741 - accuracy: 0.8763\n",
      "Epoch 65/100\n",
      "42763/42763 [==============================] - 0s 3us/step - loss: 0.2737 - accuracy: 0.8762\n",
      "Epoch 66/100\n",
      "42763/42763 [==============================] - 0s 3us/step - loss: 0.2733 - accuracy: 0.8766\n",
      "Epoch 67/100\n",
      "42763/42763 [==============================] - 0s 3us/step - loss: 0.2729 - accuracy: 0.8765\n",
      "Epoch 68/100\n",
      "42763/42763 [==============================] - 0s 3us/step - loss: 0.2725 - accuracy: 0.8769\n",
      "Epoch 69/100\n",
      "42763/42763 [==============================] - 0s 3us/step - loss: 0.2721 - accuracy: 0.8773\n",
      "Epoch 70/100\n",
      "42763/42763 [==============================] - 0s 3us/step - loss: 0.2717 - accuracy: 0.8776\n",
      "Epoch 71/100\n",
      "42763/42763 [==============================] - 0s 3us/step - loss: 0.2713 - accuracy: 0.8776\n",
      "Epoch 72/100\n",
      "42763/42763 [==============================] - 0s 3us/step - loss: 0.2709 - accuracy: 0.8775\n",
      "Epoch 73/100\n",
      "42763/42763 [==============================] - 0s 3us/step - loss: 0.2705 - accuracy: 0.8779\n",
      "Epoch 74/100\n",
      "42763/42763 [==============================] - 0s 3us/step - loss: 0.2701 - accuracy: 0.8785\n",
      "Epoch 75/100\n",
      "42763/42763 [==============================] - 0s 3us/step - loss: 0.2698 - accuracy: 0.8784\n",
      "Epoch 76/100\n",
      "42763/42763 [==============================] - 0s 3us/step - loss: 0.2694 - accuracy: 0.8785\n",
      "Epoch 77/100\n",
      "42763/42763 [==============================] - 0s 3us/step - loss: 0.2691 - accuracy: 0.8789\n",
      "Epoch 78/100\n",
      "42763/42763 [==============================] - 0s 3us/step - loss: 0.2688 - accuracy: 0.8789\n",
      "Epoch 79/100\n",
      "42763/42763 [==============================] - 0s 3us/step - loss: 0.2686 - accuracy: 0.8794\n",
      "Epoch 80/100\n",
      "42763/42763 [==============================] - 0s 3us/step - loss: 0.2683 - accuracy: 0.8794\n",
      "Epoch 81/100\n",
      "42763/42763 [==============================] - 0s 3us/step - loss: 0.2680 - accuracy: 0.8793\n",
      "Epoch 82/100\n",
      "42763/42763 [==============================] - 0s 3us/step - loss: 0.2678 - accuracy: 0.8796\n",
      "Epoch 83/100\n",
      "42763/42763 [==============================] - 0s 3us/step - loss: 0.2675 - accuracy: 0.8795\n",
      "Epoch 84/100\n",
      "42763/42763 [==============================] - 0s 3us/step - loss: 0.2673 - accuracy: 0.8796\n",
      "Epoch 85/100\n",
      "42763/42763 [==============================] - 0s 3us/step - loss: 0.2671 - accuracy: 0.8795\n",
      "Epoch 86/100\n",
      "42763/42763 [==============================] - 0s 3us/step - loss: 0.2670 - accuracy: 0.8798\n",
      "Epoch 87/100\n",
      "42763/42763 [==============================] - 0s 3us/step - loss: 0.2668 - accuracy: 0.8796\n",
      "Epoch 88/100\n",
      "42763/42763 [==============================] - 0s 3us/step - loss: 0.2666 - accuracy: 0.8799\n",
      "Epoch 89/100\n",
      "42763/42763 [==============================] - 0s 3us/step - loss: 0.2665 - accuracy: 0.8800\n",
      "Epoch 90/100\n",
      "42763/42763 [==============================] - 0s 3us/step - loss: 0.2663 - accuracy: 0.8802\n",
      "Epoch 91/100\n",
      "42763/42763 [==============================] - 0s 3us/step - loss: 0.2662 - accuracy: 0.8802\n",
      "Epoch 92/100\n",
      "42763/42763 [==============================] - 0s 3us/step - loss: 0.2661 - accuracy: 0.8802\n",
      "Epoch 93/100\n",
      "42763/42763 [==============================] - 0s 3us/step - loss: 0.2659 - accuracy: 0.8804\n",
      "Epoch 94/100\n",
      "42763/42763 [==============================] - 0s 3us/step - loss: 0.2658 - accuracy: 0.8804\n",
      "Epoch 95/100\n",
      "42763/42763 [==============================] - 0s 3us/step - loss: 0.2657 - accuracy: 0.8805\n",
      "Epoch 96/100\n",
      "42763/42763 [==============================] - 0s 3us/step - loss: 0.2656 - accuracy: 0.8805\n",
      "Epoch 97/100\n",
      "42763/42763 [==============================] - 0s 3us/step - loss: 0.2655 - accuracy: 0.8807\n",
      "Epoch 98/100\n",
      "42763/42763 [==============================] - 0s 3us/step - loss: 0.2654 - accuracy: 0.8804\n",
      "Epoch 99/100\n",
      "42763/42763 [==============================] - 0s 3us/step - loss: 0.2653 - accuracy: 0.8804\n",
      "Epoch 100/100\n",
      "42763/42763 [==============================] - 0s 3us/step - loss: 0.2653 - accuracy: 0.8806\n",
      "Epoch 1/100\n",
      "53453/53453 [==============================] - 1s 11us/step - loss: 0.6884 - accuracy: 0.5372\n",
      "Epoch 2/100\n",
      "53453/53453 [==============================] - 0s 3us/step - loss: 0.6674 - accuracy: 0.6366\n",
      "Epoch 3/100\n",
      "53453/53453 [==============================] - 0s 3us/step - loss: 0.6277 - accuracy: 0.8101\n",
      "Epoch 4/100\n",
      "53453/53453 [==============================] - 0s 3us/step - loss: 0.5760 - accuracy: 0.8345\n",
      "Epoch 5/100\n",
      "53453/53453 [==============================] - 0s 3us/step - loss: 0.5218 - accuracy: 0.8425\n",
      "Epoch 6/100\n",
      "53453/53453 [==============================] - 0s 3us/step - loss: 0.4725 - accuracy: 0.8484\n",
      "Epoch 7/100\n",
      "53453/53453 [==============================] - 0s 3us/step - loss: 0.4313 - accuracy: 0.8532: 0s - loss: 0.4320 - accuracy: 0.85\n",
      "Epoch 8/100\n",
      "53453/53453 [==============================] - 0s 3us/step - loss: 0.3983 - accuracy: 0.8572\n",
      "Epoch 9/100\n",
      "53453/53453 [==============================] - 0s 3us/step - loss: 0.3723 - accuracy: 0.8623\n",
      "Epoch 10/100\n",
      "53453/53453 [==============================] - 0s 3us/step - loss: 0.3520 - accuracy: 0.8656\n",
      "Epoch 11/100\n",
      "53453/53453 [==============================] - 0s 3us/step - loss: 0.3363 - accuracy: 0.8678\n",
      "Epoch 12/100\n",
      "53453/53453 [==============================] - 0s 3us/step - loss: 0.3242 - accuracy: 0.8697\n",
      "Epoch 13/100\n",
      "53453/53453 [==============================] - 0s 3us/step - loss: 0.3151 - accuracy: 0.8714\n",
      "Epoch 14/100\n",
      "53453/53453 [==============================] - 0s 3us/step - loss: 0.3082 - accuracy: 0.8719\n",
      "Epoch 15/100\n",
      "53453/53453 [==============================] - 0s 3us/step - loss: 0.3030 - accuracy: 0.8722\n",
      "Epoch 16/100\n",
      "53453/53453 [==============================] - 0s 3us/step - loss: 0.2991 - accuracy: 0.8731\n",
      "Epoch 17/100\n",
      "53453/53453 [==============================] - 0s 3us/step - loss: 0.2961 - accuracy: 0.8732\n",
      "Epoch 18/100\n",
      "53453/53453 [==============================] - 0s 3us/step - loss: 0.2940 - accuracy: 0.8736\n",
      "Epoch 19/100\n",
      "53453/53453 [==============================] - 0s 3us/step - loss: 0.2923 - accuracy: 0.8741\n",
      "Epoch 20/100\n",
      "53453/53453 [==============================] - 0s 3us/step - loss: 0.2910 - accuracy: 0.8736\n",
      "Epoch 21/100\n",
      "53453/53453 [==============================] - 0s 3us/step - loss: 0.2900 - accuracy: 0.8737\n",
      "Epoch 22/100\n",
      "53453/53453 [==============================] - 0s 3us/step - loss: 0.2892 - accuracy: 0.8741\n",
      "Epoch 23/100\n",
      "53453/53453 [==============================] - 0s 3us/step - loss: 0.2885 - accuracy: 0.8737\n",
      "Epoch 24/100\n",
      "53453/53453 [==============================] - 0s 3us/step - loss: 0.2879 - accuracy: 0.8739\n",
      "Epoch 25/100\n",
      "53453/53453 [==============================] - 0s 3us/step - loss: 0.2875 - accuracy: 0.8737\n",
      "Epoch 26/100\n",
      "53453/53453 [==============================] - 0s 3us/step - loss: 0.2870 - accuracy: 0.8738\n",
      "Epoch 27/100\n",
      "53453/53453 [==============================] - 0s 3us/step - loss: 0.2866 - accuracy: 0.8736\n",
      "Epoch 28/100\n",
      "53453/53453 [==============================] - 0s 3us/step - loss: 0.2862 - accuracy: 0.8739\n",
      "Epoch 29/100\n",
      "53453/53453 [==============================] - 0s 3us/step - loss: 0.2857 - accuracy: 0.8742\n",
      "Epoch 30/100\n",
      "53453/53453 [==============================] - 0s 3us/step - loss: 0.2853 - accuracy: 0.8739\n",
      "Epoch 31/100\n",
      "53453/53453 [==============================] - 0s 3us/step - loss: 0.2849 - accuracy: 0.8741\n",
      "Epoch 32/100\n",
      "53453/53453 [==============================] - 0s 3us/step - loss: 0.2844 - accuracy: 0.8740\n",
      "Epoch 33/100\n",
      "53453/53453 [==============================] - 0s 3us/step - loss: 0.2840 - accuracy: 0.8738\n",
      "Epoch 34/100\n",
      "53453/53453 [==============================] - 0s 3us/step - loss: 0.2835 - accuracy: 0.8735\n",
      "Epoch 35/100\n",
      "53453/53453 [==============================] - 0s 3us/step - loss: 0.2831 - accuracy: 0.8737\n",
      "Epoch 36/100\n",
      "53453/53453 [==============================] - 0s 3us/step - loss: 0.2826 - accuracy: 0.8734\n",
      "Epoch 37/100\n",
      "53453/53453 [==============================] - 0s 3us/step - loss: 0.2821 - accuracy: 0.8737\n",
      "Epoch 38/100\n",
      "53453/53453 [==============================] - 0s 3us/step - loss: 0.2816 - accuracy: 0.8733\n",
      "Epoch 39/100\n",
      "53453/53453 [==============================] - 0s 3us/step - loss: 0.2811 - accuracy: 0.8733\n",
      "Epoch 40/100\n",
      "53453/53453 [==============================] - 0s 3us/step - loss: 0.2806 - accuracy: 0.8731\n",
      "Epoch 41/100\n",
      "53453/53453 [==============================] - 0s 3us/step - loss: 0.2801 - accuracy: 0.8733\n",
      "Epoch 42/100\n",
      "53453/53453 [==============================] - 0s 3us/step - loss: 0.2796 - accuracy: 0.8734\n",
      "Epoch 43/100\n",
      "53453/53453 [==============================] - 0s 3us/step - loss: 0.2792 - accuracy: 0.8736\n",
      "Epoch 44/100\n",
      "53453/53453 [==============================] - 0s 3us/step - loss: 0.2787 - accuracy: 0.8739\n",
      "Epoch 45/100\n",
      "53453/53453 [==============================] - 0s 3us/step - loss: 0.2783 - accuracy: 0.8736\n",
      "Epoch 46/100\n",
      "53453/53453 [==============================] - 0s 3us/step - loss: 0.2778 - accuracy: 0.8736\n",
      "Epoch 47/100\n",
      "53453/53453 [==============================] - 0s 3us/step - loss: 0.2774 - accuracy: 0.8738\n",
      "Epoch 48/100\n",
      "53453/53453 [==============================] - 0s 3us/step - loss: 0.2769 - accuracy: 0.8741\n",
      "Epoch 49/100\n",
      "53453/53453 [==============================] - 0s 3us/step - loss: 0.2765 - accuracy: 0.8738\n",
      "Epoch 50/100\n",
      "53453/53453 [==============================] - 0s 3us/step - loss: 0.2761 - accuracy: 0.8744\n",
      "Epoch 51/100\n",
      "53453/53453 [==============================] - 0s 3us/step - loss: 0.2757 - accuracy: 0.8745\n",
      "Epoch 52/100\n",
      "53453/53453 [==============================] - 0s 3us/step - loss: 0.2752 - accuracy: 0.8747\n",
      "Epoch 53/100\n",
      "53453/53453 [==============================] - 0s 3us/step - loss: 0.2748 - accuracy: 0.8751\n",
      "Epoch 54/100\n",
      "53453/53453 [==============================] - 0s 3us/step - loss: 0.2744 - accuracy: 0.8753\n",
      "Epoch 55/100\n",
      "53453/53453 [==============================] - 0s 3us/step - loss: 0.2740 - accuracy: 0.8756\n",
      "Epoch 56/100\n",
      "53453/53453 [==============================] - 0s 3us/step - loss: 0.2737 - accuracy: 0.8757\n",
      "Epoch 57/100\n",
      "53453/53453 [==============================] - 0s 3us/step - loss: 0.2733 - accuracy: 0.8760\n",
      "Epoch 58/100\n",
      "53453/53453 [==============================] - 0s 3us/step - loss: 0.2730 - accuracy: 0.8759\n",
      "Epoch 59/100\n",
      "53453/53453 [==============================] - 0s 3us/step - loss: 0.2727 - accuracy: 0.8764\n",
      "Epoch 60/100\n",
      "53453/53453 [==============================] - 0s 3us/step - loss: 0.2724 - accuracy: 0.8765\n",
      "Epoch 61/100\n",
      "53453/53453 [==============================] - 0s 3us/step - loss: 0.2720 - accuracy: 0.8759\n",
      "Epoch 62/100\n",
      "53453/53453 [==============================] - 0s 3us/step - loss: 0.2717 - accuracy: 0.8760\n",
      "Epoch 63/100\n",
      "53453/53453 [==============================] - 0s 3us/step - loss: 0.2714 - accuracy: 0.8761\n",
      "Epoch 64/100\n",
      "53453/53453 [==============================] - 0s 3us/step - loss: 0.2711 - accuracy: 0.8761\n",
      "Epoch 65/100\n",
      "53453/53453 [==============================] - 0s 3us/step - loss: 0.2709 - accuracy: 0.8764\n",
      "Epoch 66/100\n",
      "53453/53453 [==============================] - 0s 3us/step - loss: 0.2706 - accuracy: 0.8766\n",
      "Epoch 67/100\n",
      "53453/53453 [==============================] - 0s 3us/step - loss: 0.2704 - accuracy: 0.8767\n",
      "Epoch 68/100\n",
      "53453/53453 [==============================] - 0s 3us/step - loss: 0.2702 - accuracy: 0.8771\n",
      "Epoch 69/100\n",
      "53453/53453 [==============================] - 0s 3us/step - loss: 0.2700 - accuracy: 0.8767\n",
      "Epoch 70/100\n",
      "53453/53453 [==============================] - 0s 3us/step - loss: 0.2698 - accuracy: 0.8766\n",
      "Epoch 71/100\n",
      "53453/53453 [==============================] - 0s 3us/step - loss: 0.2696 - accuracy: 0.8772\n",
      "Epoch 72/100\n",
      "53453/53453 [==============================] - 0s 3us/step - loss: 0.2695 - accuracy: 0.8770\n",
      "Epoch 73/100\n",
      "53453/53453 [==============================] - 0s 3us/step - loss: 0.2693 - accuracy: 0.8768\n",
      "Epoch 74/100\n",
      "53453/53453 [==============================] - 0s 3us/step - loss: 0.2691 - accuracy: 0.8773\n",
      "Epoch 75/100\n",
      "53453/53453 [==============================] - 0s 3us/step - loss: 0.2690 - accuracy: 0.8769\n",
      "Epoch 76/100\n",
      "53453/53453 [==============================] - 0s 3us/step - loss: 0.2689 - accuracy: 0.8770\n",
      "Epoch 77/100\n",
      "53453/53453 [==============================] - 0s 3us/step - loss: 0.2687 - accuracy: 0.8772\n",
      "Epoch 78/100\n",
      "53453/53453 [==============================] - 0s 3us/step - loss: 0.2686 - accuracy: 0.8771\n",
      "Epoch 79/100\n",
      "53453/53453 [==============================] - 0s 3us/step - loss: 0.2685 - accuracy: 0.8771\n",
      "Epoch 80/100\n",
      "53453/53453 [==============================] - 0s 3us/step - loss: 0.2684 - accuracy: 0.8771\n",
      "Epoch 81/100\n",
      "53453/53453 [==============================] - 0s 3us/step - loss: 0.2683 - accuracy: 0.8772\n",
      "Epoch 82/100\n",
      "53453/53453 [==============================] - 0s 3us/step - loss: 0.2682 - accuracy: 0.8772\n",
      "Epoch 83/100\n",
      "53453/53453 [==============================] - 0s 3us/step - loss: 0.2681 - accuracy: 0.8774\n",
      "Epoch 84/100\n",
      "53453/53453 [==============================] - 0s 3us/step - loss: 0.2680 - accuracy: 0.8772\n",
      "Epoch 85/100\n",
      "53453/53453 [==============================] - 0s 3us/step - loss: 0.2680 - accuracy: 0.8772\n",
      "Epoch 86/100\n",
      "53453/53453 [==============================] - 0s 3us/step - loss: 0.2679 - accuracy: 0.8775\n",
      "Epoch 87/100\n",
      "53453/53453 [==============================] - 0s 3us/step - loss: 0.2678 - accuracy: 0.8775\n",
      "Epoch 88/100\n",
      "53453/53453 [==============================] - 0s 3us/step - loss: 0.2678 - accuracy: 0.8776\n",
      "Epoch 89/100\n",
      "53453/53453 [==============================] - 0s 3us/step - loss: 0.2677 - accuracy: 0.8775\n",
      "Epoch 90/100\n",
      "53453/53453 [==============================] - 0s 3us/step - loss: 0.2676 - accuracy: 0.8775\n",
      "Epoch 91/100\n",
      "53453/53453 [==============================] - 0s 3us/step - loss: 0.2676 - accuracy: 0.8777\n",
      "Epoch 92/100\n",
      "53453/53453 [==============================] - 0s 3us/step - loss: 0.2675 - accuracy: 0.8777\n",
      "Epoch 93/100\n",
      "53453/53453 [==============================] - 0s 3us/step - loss: 0.2674 - accuracy: 0.8779\n",
      "Epoch 94/100\n",
      "53453/53453 [==============================] - 0s 3us/step - loss: 0.2674 - accuracy: 0.8778\n",
      "Epoch 95/100\n",
      "53453/53453 [==============================] - 0s 3us/step - loss: 0.2674 - accuracy: 0.8780\n",
      "Epoch 96/100\n",
      "53453/53453 [==============================] - 0s 3us/step - loss: 0.2673 - accuracy: 0.8779\n",
      "Epoch 97/100\n",
      "53453/53453 [==============================] - 0s 3us/step - loss: 0.2672 - accuracy: 0.8779\n",
      "Epoch 98/100\n",
      "53453/53453 [==============================] - 0s 3us/step - loss: 0.2672 - accuracy: 0.8780\n",
      "Epoch 99/100\n",
      "53453/53453 [==============================] - 0s 3us/step - loss: 0.2672 - accuracy: 0.8783\n",
      "Epoch 100/100\n",
      "53453/53453 [==============================] - 0s 3us/step - loss: 0.2672 - accuracy: 0.8784\n"
     ]
    }
   ],
   "source": [
    "from keras.wrappers.scikit_learn import KerasClassifier\n",
    "from sklearn.model_selection import cross_val_score\n",
    "from keras.models import Sequential\n",
    "from keras.layers import Dense\n",
    "def build_classifier():\n",
    "    classifier = Sequential()\n",
    "    classifier.add(Dense(units = 5, kernel_initializer = 'uniform', activation = 'relu', input_dim = 10))\n",
    "    #classifier.add(Dense(units = 3, kernel_initializer = 'uniform', activation = 'relu'))\n",
    "    classifier.add(Dense(units = 1, kernel_initializer = 'uniform', activation = 'sigmoid'))\n",
    "    classifier.compile(optimizer = 'adam', loss = 'binary_crossentropy', metrics = ['accuracy'])\n",
    "    return classifier\n",
    "classifier = KerasClassifier(build_fn = build_classifier, batch_size = 1000, epochs = 100)\n",
    "accuracies = cross_val_score(estimator = classifier, X = X_train, y = y_train, cv = 5, n_jobs = -1)\n",
    "mean = accuracies.mean()\n",
    "variance = accuracies.std()\n",
    "\n",
    "# Improving the ANN\n",
    "# Dropout Regularization to reduce overfitting if needed\n",
    "\n",
    "# Tuning the ANN\n",
    "from keras.wrappers.scikit_learn import KerasClassifier\n",
    "from sklearn.model_selection import GridSearchCV\n",
    "from keras.models import Sequential\n",
    "from keras.layers import Dense\n",
    "def build_classifier(optimizer):\n",
    "    classifier = Sequential()\n",
    "    classifier.add(Dense(units = 3, kernel_initializer = 'uniform', activation = 'relu', input_dim = 10))\n",
    "   # classifier.add(Dense(units = 5, kernel_initializer = 'uniform', activation = 'relu'))\n",
    "    classifier.add(Dense(units = 1, kernel_initializer = 'uniform', activation = 'sigmoid'))\n",
    "    classifier.compile(optimizer = optimizer, loss = 'binary_crossentropy', metrics = ['accuracy'])\n",
    "    return classifier\n",
    "classifier = KerasClassifier(build_fn = build_classifier)\n",
    "parameters = {'batch_size': [1000],\n",
    "              'epochs': [100],\n",
    "              'optimizer': ['adam']}\n",
    "grid_search = GridSearchCV(estimator = classifier,\n",
    "                           param_grid = parameters,\n",
    "                           scoring = 'accuracy',\n",
    "                           cv = 5)\n",
    "grid_search = grid_search.fit(X_train, y_train)\n",
    "best_parameters = grid_search.best_params_\n",
    "best_accuracy = grid_search.best_score_\n"
   ]
  },
  {
   "cell_type": "code",
   "execution_count": 195,
   "metadata": {},
   "outputs": [
    {
     "name": "stdout",
     "output_type": "stream",
     "text": [
      "0.8765645548361277\n",
      "{'batch_size': 1000, 'epochs': 100, 'optimizer': 'adam'}\n"
     ]
    }
   ],
   "source": [
    "print (best_accuracy)\n",
    "print(best_parameters)"
   ]
  },
  {
   "cell_type": "markdown",
   "metadata": {},
   "source": [
    "# Adaboost"
   ]
  },
  {
   "cell_type": "code",
   "execution_count": 187,
   "metadata": {},
   "outputs": [
    {
     "name": "stdout",
     "output_type": "stream",
     "text": [
      "Accuracy: 0.8806495061358874\n",
      "              precision    recall  f1-score   support\n",
      "\n",
      "           0       0.88      0.87      0.87      6362\n",
      "           1       0.88      0.89      0.89      7002\n",
      "\n",
      "    accuracy                           0.88     13364\n",
      "   macro avg       0.88      0.88      0.88     13364\n",
      "weighted avg       0.88      0.88      0.88     13364\n",
      "\n"
     ]
    }
   ],
   "source": [
    "#with default hyper parameter\n",
    "from sklearn.ensemble import AdaBoostClassifier\n",
    "clf = AdaBoostClassifier(n_estimators=200,learning_rate =1)\n",
    "clf.fit(X_train, y_train)\n",
    "#Prediction\n",
    "prediction=clf.predict(X_test)\n",
    "#importing the metrics module\n",
    "from sklearn import metrics\n",
    "#evaluation(Accuracy)\n",
    "print(\"Accuracy:\",metrics.accuracy_score(prediction,y_test))\n",
    "#evaluation(Confusion Metrix)\n",
    "from sklearn.metrics import classification_report\n",
    "print(classification_report(y_test,prediction))"
   ]
  },
  {
   "cell_type": "code",
   "execution_count": 188,
   "metadata": {},
   "outputs": [
    {
     "name": "stdout",
     "output_type": "stream",
     "text": [
      "Best Hyper Parameters:\n",
      " {'algorithm': 'SAMME.R', 'learning_rate': 0.5, 'n_estimators': 200}\n",
      "Accuracy: 0.8804250224483687\n",
      "              precision    recall  f1-score   support\n",
      "\n",
      "           0       0.88      0.86      0.87      6362\n",
      "           1       0.88      0.90      0.89      7002\n",
      "\n",
      "    accuracy                           0.88     13364\n",
      "   macro avg       0.88      0.88      0.88     13364\n",
      "weighted avg       0.88      0.88      0.88     13364\n",
      "\n"
     ]
    }
   ],
   "source": [
    "#with default hyper parameter\n",
    "from sklearn.ensemble import AdaBoostClassifier\n",
    "from sklearn.model_selection import GridSearchCV\n",
    "clf = AdaBoostClassifier()\n",
    "#Hyper Parameters Set\n",
    "params = {'n_estimators':[100,200],\n",
    "          'algorithm':['SAMME', 'SAMME.R'],\n",
    "          'learning_rate':[.5,1,2]}\n",
    "#Making models with hyper parameters sets\n",
    "clf1 = GridSearchCV(clf, param_grid=params, n_jobs=1)\n",
    "#Learning\n",
    "clf1.fit(X_train,y_train)\n",
    "#The best hyper parameters set\n",
    "print(\"Best Hyper Parameters:\\n\",clf1.best_params_)\n",
    "#Prediction\n",
    "prediction=clf1.predict(X_test)\n",
    "#importing the metrics module\n",
    "from sklearn import metrics\n",
    "#evaluation(Accuracy)\n",
    "print(\"Accuracy:\",metrics.accuracy_score(prediction,y_test))\n",
    "#evaluation(Confusion Metrix)\n",
    "from sklearn.metrics import classification_report\n",
    "print(classification_report(y_test,prediction))"
   ]
  },
  {
   "cell_type": "markdown",
   "metadata": {},
   "source": [
    "# Random forest regression"
   ]
  },
  {
   "cell_type": "code",
   "execution_count": 189,
   "metadata": {},
   "outputs": [
    {
     "name": "stdout",
     "output_type": "stream",
     "text": [
      "r-squared: 0.909158585187373\n",
      "MAE: 0.03765869708250831\n",
      "MSE: 0.0031276782380373594\n",
      "RMSE: 0.05592564919638716\n"
     ]
    },
    {
     "data": {
      "text/plain": [
       "Text(0.5, 0, 'Test data')"
      ]
     },
     "execution_count": 189,
     "metadata": {},
     "output_type": "execute_result"
    },
    {
     "data": {
      "image/png": "[encoded data removed]",
      "text/plain": [
       "<Figure size 432x288 with 1 Axes>"
      ]
     },
     "metadata": {
      "needs_background": "light"
     },
     "output_type": "display_data"
    }
   ],
   "source": [
    "# import the regressor \n",
    "from sklearn.ensemble import RandomForestRegressor \n",
    "X =dataset[['Intial_failed_lines',  'Load_shedding_constraint',\n",
    "       'Load_generation_ratio', 'Capacity_estimation_error','Human_error_Probability','Alpha',\n",
    "            'Cmax','Installed_capacity','Degree',  'Distance']]\n",
    "y = dataset['Cascading_effect']\n",
    "\n",
    "#scaling\n",
    "from sklearn.preprocessing import StandardScaler\n",
    "\n",
    "sc = StandardScaler()\n",
    "X = sc.fit_transform(X)\n",
    "#train test split\n",
    "from sklearn.model_selection import train_test_split\n",
    "X_train, X_test, y_train, y_test = train_test_split(X, y, test_size=0.2, random_state=101)  \n",
    " # create regressor object \n",
    "rfr = RandomForestRegressor(n_estimators = 300, min_samples_split=10,\n",
    "    min_samples_leaf=10) \n",
    "  \n",
    "# fit the regressor with x and y data \n",
    "rfr.fit(X_train, y_train) \n",
    "\n",
    "predictions = rfr.predict(X_test)\n",
    "# error metrics\n",
    "from sklearn import metrics\n",
    "from sklearn.metrics import r2_score\n",
    "print('r-squared:', r2_score(y_test, predictions))\n",
    "print('MAE:', metrics.mean_absolute_error(y_test, predictions))\n",
    "print('MSE:', metrics.mean_squared_error(y_test, predictions))\n",
    "print('RMSE:', np.sqrt(metrics.mean_squared_error(y_test, predictions)))\n",
    "\n",
    "scat= plt.scatter(y_test,predictions)\n",
    "plt.ylabel('predicted values')\n",
    "plt.xlabel('Test data')\n"
   ]
  },
  {
   "cell_type": "markdown",
   "metadata": {},
   "source": [
    "# linear regression"
   ]
  },
  {
   "cell_type": "code",
   "execution_count": 190,
   "metadata": {},
   "outputs": [
    {
     "name": "stdout",
     "output_type": "stream",
     "text": [
      "r-squared: 0.7233277135953364\n",
      "MAE: 0.07831810371344122\n",
      "MSE: 0.009525852179215756\n",
      "RMSE: 0.0976004722284465\n"
     ]
    }
   ],
   "source": [
    "#training\n",
    "from sklearn.linear_model import LinearRegression\n",
    "lm = LinearRegression()\n",
    "lm.fit(X_train,y_train)\n",
    "\n",
    "#vizualization of the result\n",
    "\n",
    "predictions = lm.predict( X_test)\n",
    "\n",
    "# error metrics\n",
    "from sklearn import metrics\n",
    "from sklearn.metrics import r2_score\n",
    "print('r-squared:', r2_score(y_test, predictions))\n",
    "print('MAE:', metrics.mean_absolute_error(y_test, predictions))\n",
    "print('MSE:', metrics.mean_squared_error(y_test, predictions))\n",
    "print('RMSE:', np.sqrt(metrics.mean_squared_error(y_test, predictions)))"
   ]
  },
  {
   "cell_type": "markdown",
   "metadata": {},
   "source": [
    "# Ridge"
   ]
  },
  {
   "cell_type": "code",
   "execution_count": 191,
   "metadata": {},
   "outputs": [
    {
     "name": "stdout",
     "output_type": "stream",
     "text": [
      "r-squared: 0.723337633940372\n",
      "MAE: 0.07831904247491402\n",
      "MSE: 0.00952551062082694\n",
      "RMSE: 0.09759872243439942\n"
     ]
    }
   ],
   "source": [
    "from sklearn.linear_model import Ridge\n",
    "ridge = Ridge(alpha=100)\n",
    "ridge.fit(X_train,y_train)\n",
    "predictions = ridge.predict(X_test)\n",
    "# error metrics\n",
    "from sklearn import metrics\n",
    "from sklearn.metrics import r2_score\n",
    "print('r-squared:', r2_score(y_test, predictions))\n",
    "print('MAE:', metrics.mean_absolute_error(y_test, predictions))\n",
    "print('MSE:', metrics.mean_squared_error(y_test, predictions))\n",
    "print('RMSE:', np.sqrt(metrics.mean_squared_error(y_test, predictions)))"
   ]
  },
  {
   "cell_type": "markdown",
   "metadata": {},
   "source": [
    "# Lasso"
   ]
  },
  {
   "cell_type": "code",
   "execution_count": 192,
   "metadata": {},
   "outputs": [
    {
     "name": "stdout",
     "output_type": "stream",
     "text": [
      "r-squared: 0.723337633940372\n",
      "MAE: 0.07831904247491402\n",
      "MSE: 0.00952551062082694\n",
      "RMSE: 0.09759872243439942\n"
     ]
    }
   ],
   "source": [
    "from sklearn.linear_model import Lasso\n",
    "lasso = Lasso(alpha=0.1)\n",
    "lasso.fit(X_train,y_train)\n",
    "predictions = ridge.predict(X_test)\n",
    "# error metrics\n",
    "from sklearn import metrics\n",
    "from sklearn.metrics import r2_score\n",
    "print('r-squared:', r2_score(y_test, predictions))\n",
    "print('MAE:', metrics.mean_absolute_error(y_test, predictions))\n",
    "print('MSE:', metrics.mean_squared_error(y_test, predictions))\n",
    "print('RMSE:', np.sqrt(metrics.mean_squared_error(y_test, predictions)))"
   ]
  },
  {
   "cell_type": "markdown",
   "metadata": {},
   "source": [
    "# Support vector regression"
   ]
  },
  {
   "cell_type": "code",
   "execution_count": 193,
   "metadata": {},
   "outputs": [
    {
     "name": "stdout",
     "output_type": "stream",
     "text": [
      "r-squared: 0.8493190786120721\n",
      "MAE: 0.05583775834503674\n",
      "MSE: 0.0051879579339943515\n",
      "RMSE: 0.07202748040848264\n"
     ]
    }
   ],
   "source": [
    "from sklearn.svm import SVR\n",
    "svr = SVR()\n",
    "svr.fit(X_train,y_train)\n",
    "predictions = svr.predict(X_test)\n",
    "# error metrics\n",
    "from sklearn import metrics\n",
    "from sklearn.metrics import r2_score\n",
    "print('r-squared:', r2_score(y_test, predictions))\n",
    "print('MAE:', metrics.mean_absolute_error(y_test, predictions))\n",
    "print('MSE:', metrics.mean_squared_error(y_test, predictions))\n",
    "print('RMSE:', np.sqrt(metrics.mean_squared_error(y_test, predictions)))"
   ]
  },
  {
   "cell_type": "code",
   "execution_count": null,
   "metadata": {},
   "outputs": [],
   "source": []
  }
 ],
 "metadata": {
  "kernelspec": {
   "display_name": "Python 3",
   "language": "python",
   "name": "python3"
  },
  "language_info": {
   "codemirror_mode": {
    "name": "ipython",
    "version": 3
   },
   "file_extension": ".py",
   "mimetype": "text/x-python",
   "name": "python",
   "nbconvert_exporter": "python",
   "pygments_lexer": "ipython3",
   "version": "3.7.4"
  }
 },
 "nbformat": 4,
 "nbformat_minor": 2
}
